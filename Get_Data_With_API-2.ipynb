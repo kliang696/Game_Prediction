{
  "nbformat": 4,
  "nbformat_minor": 0,
  "metadata": {
    "colab": {
      "provenance": [],
      "toc_visible": true
    },
    "kernelspec": {
      "name": "python3",
      "display_name": "Python 3"
    },
    "language_info": {
      "name": "python"
    }
  },
  "cells": [
    {
      "cell_type": "code",
      "source": [
        "import requests"
      ],
      "metadata": {
        "id": "5sCC5RF-zHf4"
      },
      "execution_count": 22,
      "outputs": []
    },
    {
      "cell_type": "code",
      "source": [
        "my_key=\"RGAPI-3cb6bf63-086f-47d8-9f48-34853a8e8291\""
      ],
      "metadata": {
        "id": "PwK3TVUXn0Ua"
      },
      "execution_count": 27,
      "outputs": []
    },
    {
      "cell_type": "code",
      "source": [
        "import pandas as pd"
      ],
      "metadata": {
        "id": "zUIjA54n3bEy"
      },
      "execution_count": 24,
      "outputs": []
    },
    {
      "cell_type": "markdown",
      "source": [
        "###Use Beautiful Soup to get Best Player ID"
      ],
      "metadata": {
        "id": "G2qrVFTd4z6e"
      }
    },
    {
      "cell_type": "code",
      "source": [
        "import requests\n",
        "from bs4 import BeautifulSoup\n",
        "\n",
        "# Define the URLs\n",
        "urls = [\n",
        "    \"https://lolprofile.net/leaderboards/na/0\",\n",
        "    \"https://lolprofile.net/leaderboards/na/1\",\n",
        "    \"https://lolprofile.net/leaderboards/na/2\",\n",
        "    \"https://lolprofile.net/leaderboards/na/3\",\n",
        "    \"https://lolprofile.net/leaderboards/na/4\",\n",
        "    \"https://lolprofile.net/leaderboards/na/5\"\n",
        "]\n",
        "\n",
        "# Create an empty list to store all span elements\n",
        "text_contents = [] \n",
        "\n",
        "# Iterate over the URLs\n",
        "for url in urls:\n",
        "    # Make the request and parse the HTML\n",
        "    response = requests.get(url)\n",
        "    soup = BeautifulSoup(response.text, \"html.parser\")\n",
        "    \n",
        "    # Extract the desired elements using BeautifulSoup selectors\n",
        "    span_elements = soup.select('tbody tr td:not([class]) span')\n",
        "    \n",
        "    # Add the span elements to the combined list\n",
        "    text_contents.extend(span.text for span in span_elements)\n",
        "\n",
        "# Iterate over the combined list of span elements and print their contents\n",
        "\n",
        "print(text_contents)\n",
        "\n",
        "\n"
      ],
      "metadata": {
        "id": "sGiNerokuV5b",
        "colab": {
          "base_uri": "https://localhost:8080/"
        },
        "outputId": "699207cf-cf1d-45d0-a203-5a25f9b303b1"
      },
      "execution_count": 5,
      "outputs": [
        {
          "output_type": "stream",
          "name": "stdout",
          "text": [
            "['DouyinTonyTop', 'Copý', '6K OnFleek', 'C9 Lost', 'Draven696969', 'DlPLEX', '5kid', 'ARMAO', 'twtv Gryffinn', 'Isles LFT', 'bejjaniii', 'ACKÈRMAN', 'CLOLGOD2023', 'IgnaVilu', 'nalamango', 'Woddie', '100T C1oser', 'TTV AKASHI10', 'Fleshyyy', 'WX panghu03210', 'WX panghu03210', 'BABO TOP', 'blaberfish2', 'C9 Berzerker', 'Josedeodo', 'Sophist Sage', 'TL Honda MaRin', '10April', 'donbray', 'Jænsen', 'stargazer', 'DIG Rich', 'Augustine', 'M1nit', 'faker god top', 'Good Boi', 'I am Súnlight', 'Cupic', 'Kral Luger', 'HellYeahhhh', 'TL Honda Summit', 'Dragoon', 'Vulcan 01', 'Armored Mawdad', 'IIrrooGG', 'jot gat ne', 'Isles LFT 2', 'rovex7', 'Neøø', 'Eyla', 'Nikkone', 'Cotogod', 'Pockus', 'lunacia', 'SIayer Supreme', 'YoojungHukiriLee', 'sup line', 'ASTROBOY99', 'wellwode', 'Shogolol', 'Pentaless', 'Im On Main', 'donkey gap', 'Brother Gwang', 'CACKGOD1', 'Cosboat', 'pizzaman007', 'fan hua da wang', 'dog kachu', 'KeeI', 'Zyko', 'Antìhero', 'KR tacokiller', 'bigboichoi69', 'kenvi9', 'P1ng', 'ARRAY123', 'niinim', 'Kenvi2', 'jjking10', '6K Meaning', 'bot line', 'Y U MOMLESS', 'NA HANQL', 'C9 Zven', 'Autumn Tree', 'ZED04', '再见', 'ttv donbraylol', 'Haven666', 'horderrr', 'Zent', 'PastIsJustAGhost', 'Endorfin', 'Di Yu Le', 'Solitaire', 'Leemo', 'Allorim', 'Khan', 'GG RoseTh0rn', '41205', 'kookykrook', 'Music101', 'Joseph Goldberg', 'FLY VicLa', 'TL Honda CoreJJ', 'IllllIIIIllllIIl', 'Breezyyy', 'Wx FORA999', 'Śheiden', 'Decøy', 'TL Honda APA', 'kisno', 'EmbraceLife', 'Chaeha', 'HVAC TECHNlCIAN', 'my kled mid acc', 'Iinks', 'Y4ma', 'Not Hans']\n"
          ]
        }
      ]
    },
    {
      "cell_type": "code",
      "source": [
        "len(text_contents)"
      ],
      "metadata": {
        "colab": {
          "base_uri": "https://localhost:8080/"
        },
        "id": "Bdj0uSOnSEMN",
        "outputId": "96fbc62d-ee1f-4ada-e1f0-2c55912eb6fa"
      },
      "execution_count": 18,
      "outputs": [
        {
          "output_type": "execute_result",
          "data": {
            "text/plain": [
              "120"
            ]
          },
          "metadata": {},
          "execution_count": 18
        }
      ]
    },
    {
      "cell_type": "code",
      "source": [
        "len(set(text_contents))"
      ],
      "metadata": {
        "colab": {
          "base_uri": "https://localhost:8080/"
        },
        "id": "7fpgylipSG50",
        "outputId": "24dcfc9c-2a66-438c-c2e5-072cf3585816"
      },
      "execution_count": 7,
      "outputs": [
        {
          "output_type": "execute_result",
          "data": {
            "text/plain": [
              "119"
            ]
          },
          "metadata": {},
          "execution_count": 7
        }
      ]
    },
    {
      "cell_type": "code",
      "source": [
        "id = list(set(text_contents))"
      ],
      "metadata": {
        "id": "UFefQpfNSYCx"
      },
      "execution_count": 19,
      "outputs": []
    },
    {
      "cell_type": "code",
      "source": [
        "id"
      ],
      "metadata": {
        "colab": {
          "base_uri": "https://localhost:8080/"
        },
        "id": "G57fBDHfU4Mu",
        "outputId": "04f8a9d5-88ba-4e93-b6d4-e825b02d5032"
      },
      "execution_count": 34,
      "outputs": [
        {
          "output_type": "execute_result",
          "data": {
            "text/plain": [
              "['horderrr',\n",
              " 'ACKÈRMAN',\n",
              " 'nalamango',\n",
              " 'jjking10',\n",
              " 'Cosboat',\n",
              " 'Antìhero',\n",
              " 'ttv donbraylol',\n",
              " 'Decøy',\n",
              " 'DouyinTonyTop',\n",
              " 'Copý',\n",
              " 'KR tacokiller',\n",
              " 'EmbraceLife',\n",
              " 'kenvi9',\n",
              " 'Haven666',\n",
              " 'HVAC TECHNlCIAN',\n",
              " 'stargazer',\n",
              " 'Wx FORA999',\n",
              " 'my kled mid acc',\n",
              " 'PastIsJustAGhost',\n",
              " 'kookykrook',\n",
              " 'bejjaniii',\n",
              " 'sup line',\n",
              " 'Khan',\n",
              " 'Breezyyy',\n",
              " 'Neøø',\n",
              " 'Eyla',\n",
              " 'blaberfish2',\n",
              " 'Woddie',\n",
              " 'IllllIIIIllllIIl',\n",
              " 'donbray',\n",
              " 'GG RoseTh0rn',\n",
              " 'Śheiden',\n",
              " 'TL Honda APA',\n",
              " 'kisno',\n",
              " 'Cotogod',\n",
              " 'Not Hans',\n",
              " 'Kral Luger',\n",
              " 'Iinks',\n",
              " 'FLY VicLa',\n",
              " 'C9 Zven',\n",
              " 'Music101',\n",
              " 'CACKGOD1',\n",
              " 'Fleshyyy',\n",
              " 'I am Súnlight',\n",
              " 'wellwode',\n",
              " 'Leemo',\n",
              " 'ARRAY123',\n",
              " 'Shogolol',\n",
              " 'Cupic',\n",
              " 'WX panghu03210',\n",
              " 'ARMAO',\n",
              " 'twtv Gryffinn',\n",
              " 'Josedeodo',\n",
              " 'IIrrooGG',\n",
              " 'faker god top',\n",
              " 'Good Boi',\n",
              " 'Vulcan 01',\n",
              " 'Joseph Goldberg',\n",
              " 'Jænsen',\n",
              " 'ZED04',\n",
              " '6K OnFleek',\n",
              " 'TL Honda CoreJJ',\n",
              " 'Armored Mawdad',\n",
              " 'C9 Berzerker',\n",
              " 'lunacia',\n",
              " '再见',\n",
              " 'TL Honda Summit',\n",
              " 'niinim',\n",
              " 'C9 Lost',\n",
              " 'Brother Gwang',\n",
              " '10April',\n",
              " 'Di Yu Le',\n",
              " 'ASTROBOY99',\n",
              " 'DIG Rich',\n",
              " 'Pentaless',\n",
              " 'Draven696969',\n",
              " 'HellYeahhhh',\n",
              " 'Y U MOMLESS',\n",
              " 'TL Honda MaRin',\n",
              " 'CLOLGOD2023',\n",
              " 'SIayer Supreme',\n",
              " 'dog kachu',\n",
              " 'Isles LFT 2',\n",
              " 'Sophist Sage',\n",
              " '100T C1oser',\n",
              " 'Isles LFT',\n",
              " 'pizzaman007',\n",
              " 'Pockus',\n",
              " 'M1nit',\n",
              " 'KeeI',\n",
              " 'Kenvi2',\n",
              " 'Dragoon',\n",
              " 'Y4ma',\n",
              " 'Solitaire',\n",
              " 'Zyko',\n",
              " 'Endorfin',\n",
              " 'Zent',\n",
              " 'jot gat ne',\n",
              " 'Allorim',\n",
              " 'IgnaVilu',\n",
              " 'BABO TOP',\n",
              " '41205',\n",
              " 'donkey gap',\n",
              " '6K Meaning',\n",
              " 'DlPLEX',\n",
              " 'bigboichoi69',\n",
              " 'TTV AKASHI10',\n",
              " 'bot line',\n",
              " 'NA HANQL',\n",
              " 'Autumn Tree',\n",
              " 'Im On Main',\n",
              " 'Chaeha',\n",
              " 'Nikkone',\n",
              " '5kid',\n",
              " 'YoojungHukiriLee',\n",
              " 'P1ng',\n",
              " 'rovex7',\n",
              " 'Augustine',\n",
              " 'fan hua da wang']"
            ]
          },
          "metadata": {},
          "execution_count": 34
        }
      ]
    },
    {
      "cell_type": "code",
      "source": [
        "len(id)"
      ],
      "metadata": {
        "colab": {
          "base_uri": "https://localhost:8080/"
        },
        "id": "k6l0WHNOVeqY",
        "outputId": "65995bd7-a6bd-4a70-b0b8-5c7cd59dabdd"
      },
      "execution_count": 40,
      "outputs": [
        {
          "output_type": "execute_result",
          "data": {
            "text/plain": [
              "119"
            ]
          },
          "metadata": {},
          "execution_count": 40
        }
      ]
    },
    {
      "cell_type": "markdown",
      "source": [
        "## Use Player ID to get PUUID"
      ],
      "metadata": {
        "id": "DKNk4yMZ3yVw"
      }
    },
    {
      "cell_type": "code",
      "source": [
        "def get_puuid(my_key,id):\n",
        "   puuid_list=[]\n",
        "   for i in range(len(id)):\n",
        "     try:\n",
        "      summoner_url = \"https://na1.api.riotgames.com/lol/summoner/v4/summoners/by-name/\" + str(id[i]) + '?api_key=' + my_key\n",
        "      get_player_info = requests.get(summoner_url).json()\n",
        "      puuid = get_player_info['puuid']\n",
        "      puuid_list.append(puuid)\n",
        "     except KeyError:\n",
        "      continue\n",
        "\n",
        "   return puuid_list\n",
        "     "
      ],
      "metadata": {
        "id": "i-XpjssPnclc"
      },
      "execution_count": 49,
      "outputs": []
    },
    {
      "cell_type": "code",
      "source": [
        "puuid=get_puuid(my_key,id)"
      ],
      "metadata": {
        "id": "RQH2HYN0y32H"
      },
      "execution_count": 50,
      "outputs": []
    },
    {
      "cell_type": "code",
      "source": [
        "len(puuid)"
      ],
      "metadata": {
        "colab": {
          "base_uri": "https://localhost:8080/"
        },
        "id": "59R83RpKWhRk",
        "outputId": "659d644c-a29f-4db0-b000-e2bdc44bd27b"
      },
      "execution_count": 51,
      "outputs": [
        {
          "output_type": "execute_result",
          "data": {
            "text/plain": [
              "96"
            ]
          },
          "metadata": {},
          "execution_count": 51
        }
      ]
    },
    {
      "cell_type": "code",
      "source": [
        "puuid"
      ],
      "metadata": {
        "colab": {
          "base_uri": "https://localhost:8080/"
        },
        "id": "ZLg8TaFJWrqY",
        "outputId": "da3f9007-536a-4161-94d5-239820b5ed80"
      },
      "execution_count": 52,
      "outputs": [
        {
          "output_type": "execute_result",
          "data": {
            "text/plain": [
              "['8lWGRaCJD1PgTS6TKkEonCbocKx6cFLY3Ehs4CpP3OAVA8Ss4KjHq_yzPHdlG1e-7OYaX8gkdaY6Dw',\n",
              " 'tNglFd_mZdvKGJmcAnwM80naGItqvwULCDB7s2OWDftEdyYJWDMMTaW3Bms90_fIaDtQJVu8NqYo4Q',\n",
              " 'cWupzYbGeix-gMlMUpQvxLvtMzAI8-iNQxDCXszQIxkw4H4SX20Fi5iwG27dTsZWjhFhjDKUV2CDJQ',\n",
              " 'C8uEi0ie7Hiy-DNoVeoitjggGDikXq1BJHOvfga6RoRcO6op_K1H9COJc49uZgFqW-n_C8aqms3Lrg',\n",
              " 'TI4H3Pr9U73mgArdFS9dImUThO9uwDTDqWvZk2uN5_SUceX3wFaAKW9QSM9F8Kkgp6k3q5I1UM7PZw',\n",
              " 'g2vX3DYmvC5XQ4bhWo8gE2M72dRgKYGi_cPvTz2BMZgWT0fGn-z8PYvE08xAJzMbfxl2Dj717bC86Q',\n",
              " 'aMSXKIV3qPiq_vDoJpSFuSr8GevvJM5KOCpB5ZC3QZgBHzygvBgiAfKdDFUp5_mZtYGy-2ku97f3kg',\n",
              " 'EIUSeXBq_jEf7wJaHQi_KQi6aZ6AJuuAyAKOTa2KEYBVUl7Lt4BObM1nqNW2rbIKcW_yPNmZbfiu1A',\n",
              " 'OlfKXbg4d4lXutGN7rXodcnme1G8MQnRH75xzcQdxeDt1z5zT1Qa27lyarchvxNIlfTolGz042NXnQ',\n",
              " 'Rh5CNrsT3j-ao8LCESHU2b9U2Gr3ybJWnGDj6mIShRcEZkmhLyIgHE5teAaMXboOPYobTBnp5TsSMA',\n",
              " 'YsieG4ZhHcqPC3NyIJbMh6bxMgR8kUumRfKJHAGiFdASXrIKHOQG6od8kxu3GuL-lOHzR-f6qeQzmg',\n",
              " '8ZIJ9wzwzkVNBi_4UEFWCkySabwwebe480nMr2XpXoQqRwMnnO6DTBW14FNNpIxy5-iEGukOzO6szw',\n",
              " 'rbuuvfzZbz5YvNgs7tGsNplzArAJGzr8Q-jpfbkdDbjm1GskIKZzrtrN-3_FjWEs4LPyp7M0I64kTw',\n",
              " 'IOVWXr4YSJShkhnRwo8yBWcA1sEtVo23_8tKaqoqomvp-7DbN3VAJQDxQBoZZ4IkHoqqJ8IF4UErnQ',\n",
              " 'Bl1EwumJHd4ebuOX4uK5BPY-MigU0MtVugo8kxOmT3lqRO_l7OIlrF6rAZpWw72UdeWUEjnchl3MXQ',\n",
              " 'bCRcTwloY8NHCvlLJZLC7yo0CKhz5bVNPdaXAiDxR3QW_bx9IsLkO8pcY2wwWLPfkC_JsLnhk4H1YA',\n",
              " 'kOjd7Li50sdzFssGjfroncB-BQn3OUYiVIZmrlORGfaW9wIiT6ooiQ_7k_ysoDl-2RH1CBYUtZztmg',\n",
              " '_OiDjC2rwrnhV6j2vSJdJ8CxnNh9MrKW7IyNSnqWhPwiM31ZQhG3q9Sa_VchlXQreSIiin18hiftKQ',\n",
              " 'DcJbVlZ1SSzygIbkVwnLccxNqOsJF0bbvMdm9xf_Zd7qE-OoWOuXaeLibKCPM6Q501BDzY14WuroUg',\n",
              " 'ye5ZKRn0W-2uTg5PlFYgnqeSRBJn6aY5cNNi2dkAcBTegTNNlexbzcM5Ye8oUUb06S9qTNSkYOXQpQ',\n",
              " 'MJmYxTad_retDVszVQYS_VW0DuTXzJMCIbRiajg6cewB-2dzXFXW6AR9atRuKg1GzI7h3rvM153YKg',\n",
              " 'nW2FHyPn4gutm5dFEQg-XpuuXqhK96M9dyiGlT1ihR6rIGOQo8So9amjS3qdRDawq-wRWZj4dlIjfA',\n",
              " 'kp1T0Bu3fYiFudXIS1NcKrr46T2Ye08P6Ldc7t79ztQ1zyH1Kgj2mT5zuePvEGyPAsD4uUMYr8lUzg',\n",
              " 'xLKbDFhUUuTAE76DYH8JXj9rgHrcaXmSqdmMTnbdBYYh0pfSM_koZzTbldeIgSffVq7PiE_6DkVFZA',\n",
              " 'M3b8xD3PKFGeYpaN4w0IIRhGbzkdCkbx9_K1CRwlhNWRsxTyWhI3D3gTk6YybVIuQhHhx3WWjYtjHA',\n",
              " 'JC0TjqoBxDIUDVDikQW0ddZm_HvLSIlT6njHpYIeb-hsk_c54tmYBlqA8alhc3jj9ECa0uRUkBQaPw',\n",
              " '5G4XFhXhkTgUHD5mcXvgFTw0xUvtTxFxa4cLeHL6bZXkQVBq-cbDl131Gp7rbnPkvDxSa1A5_AMARQ',\n",
              " 'fc9Xjjl6mEBSAZb6_V0dG_pVwAGjOuoPyp8bFsYw-4YJbdrUm_8z4F0oh0a_QytsZMNerbNOsxUN6w',\n",
              " 'Xw04JdXcEm_e0AWYKvNJslJPvmR3UlZy3DbW2Jhij6XOZ1ZOJWdv9V1XMXkcC-8j941y5m6JoHhMdg',\n",
              " 'B5Khhf17RRnrXKjuCXxomy18NdoEUcEE4_Pk_3lQH6hgnyJ_oV5sCAVM6s0pQ4fl8i_UIvumlPpYdg',\n",
              " '_DPGFd1nQjyx0EZ1uYYs6NyEU8sIhCTL6VzjenPcCDD7n4tyYsfNdhTQIr8lpL1WBjCD8-0pwKpOeg',\n",
              " '7QEZp5aczFNtJVgoruT1X5-IhiJSoNuIhM8ZOEqHNBCQQUGAckJsDLYe0Nqbk24aJpMdRdkOJIQbSA',\n",
              " 'Kd6ooRQOl5LNJxoehVv9OSTSdgvkydAxHhg-BGsJ2jBkKJ5tdvFL6jyrsbazgbVcKJcLGyJvrsnQ_Q',\n",
              " 'J4zD76uRUo-Qa6rJetjo3taW9VlZo3QmqOqhBBY0ceqEZBaGghFINhRlLH0lYnvFxF3xNbFxfyGxHg',\n",
              " 'fru6iSIyq5pWhdyLQeUHeQ8SzLXhxOydBTr4cLjdDRQmUTbCcdzRtnQSbkkzktdBTeGOb7ByPAN_rg',\n",
              " 'L_d74lIYWiPqRljtrMV0oRtFEQ_KwkYPLtj4cBtoolDOg9ejCOlitcUvN1upp2PGCmcK_q3f3SF0Mg',\n",
              " 'MgQtLhRUesdV3JySuAMFsUF1xNH_EnL82jraEjLdDCyPnm5XIZqY8a89ASZOlZZuVC8h5FyKW5dP3Q',\n",
              " 'EwcYADsZerF2SgpPNlhGJRCjOGDgZOGZEIbgw_FDnQei3Sqs3VZKf2MpxK-8JvnCpxRfItsazcOyog',\n",
              " '8gECzOlWvCs3gHW2h1HlII7fntZh1fhtxLMy2fCW28aB4WpkmFk19I82yhFJM5NDImRmRSr4NHnnAw',\n",
              " 'H7vALpd0wyZt6ck1lXpM_GbEpsv0pJZi12tSidBcWfdoZZUc0-59GHrvV_u1TLIX0kPHHdT-_uf8xA',\n",
              " 'LcZTNzZoUt--Vzppe8sPhdfrFGhTUyzbUqjClGca_LyU4ah0pW2ZnJvUZpUPAiKEZKbnoHKoET1nwg',\n",
              " 'JornhdMDedAVtZX7kFxfgHGBuK_SXvvY5eCIx0EN-dO0Cy-afSjkhkfG4VfWuf3BFRcQpm1stocRSA',\n",
              " 'jhuRFIdOSnTmrKboW4HF7GgyFZ6a4DNPHYYxnHuq1rSosmsRYY5Gvj2E8kB8umS86nD12ShwgGR4WQ',\n",
              " 'kw_yw5rpSjKXVFUHpf-NfmsVt7tEYps6C_YjvG3AuxtlvZR1jgqaZDdyJgVL0yLdIn-I4_kZP7VY5g',\n",
              " '_JRbt6aauv89D-kmAoL8aJcKvzhQCj4CbAlkkOeNKinHvSCn5p5LhP2xdskYCBevhrQwSX5Dqkvr7g',\n",
              " '26xzlz6NfWgwbL6sQKCH8SsmMsS3l6Oy17lPd2f6IM_FVFV3FYvSF1zyvH38TyPq5GtNsHey2wPD6g',\n",
              " '4bz_pTF8tU9w_8KvxOYn0E8VYDe2jIrI1EG4CVqv9tK_XfFf6j9UjSa2pm8XUpXpThIGJY2LJyqTtQ',\n",
              " '95epzgOiTrKN5TQO1jRrzP5YRIdNjD0H5p5fKoAEhYX0Jn9UY05JEZ8FW6QSJ168wqlK9pedVzvV1g',\n",
              " '0D8d9IvNsFI-iVzlGFVkoZtxjlzsAm5KkNCBd-ODw6W9Y7vfoq5mXkQX4m31X94bLmCeXosT3WSZQw',\n",
              " 'KlHSW4bFl7W6KY07B-a-Oo-_5RfAVWgHwuLLJKq-W4Wi2LG8dl7OSWcTyT61ZkbAqlivC9W1Vo_xTQ',\n",
              " 'qp55WLYczxhqwhZNG_L0FSjw5va8gnzq_EqdRpfC-NY8ZsjQEyIrwjmeclxjlZ35URQtA8V2f60B4g',\n",
              " 'CMzjgEJS7SynanBUeXlCEZZkVCH_ms0yFErShK56VUsB-b0PB0HJuzRtZU47R0iAF0TUn34KOgv5xA',\n",
              " 'lDruGNeUW3M37NXmaspIbB5cTfZfylY9x6IZ-KhqwwtsfCayOyhrbZ9Q1_zys0H6cAEXcibnywZaKg',\n",
              " 'zhRQg79CIOvYUhNAouYQkGdUQQC3sDROQBuVpQBnTUs3mitx0rJEJifw6EaFN9PDnFBG9K4RhMW-Pg',\n",
              " 'A5GJnrU0D02AqgkWiRVvU4brpPjvn9YNAK0TeWHX0cnoHq6L-cc_kSK9TnBUbrEZoH8NcSUxhtlvPA',\n",
              " 'dOStj1eWm6LyevICSSR-INzUVlUXsL6vS689XyS86El2a7VQ5plPnW-YORjfUe_3UseqpoDDalp5rA',\n",
              " 'SgzfXIISZjBrbuiFTlIXL-87y4RnA1GGMMPM3CqEH2Dfd39Dn6ZA8XTlDFsG-h2zpnC-iWmRVQFFGA',\n",
              " 'UCHhbgMwlw9jb_Q2LN5sBiEvdhYMAb12XAGuY78wK4157HBDKDR9I2soCQugivZVglmKCanYREwftQ',\n",
              " 'XemIWoKaAgBJ3OGTMQ5MscBtKEHcTIOzxmv5ER_SaByrlT9T4Y-NRZbbtxc5SN7W05zSgSKcQAQjqg',\n",
              " 'XTxShxiwjPbXfGN4u9ALpZVCPUX7vie82OA7snFcZYtFN1szxiVrwSeMpZzoupJk2c-hwhj8PNg8TA',\n",
              " 'pPVpKgHN3q3qlnDc4ORzerEBerKzicrbleCKVzlQMKxAh1U5qPGqsEqKPGVX8x7hBfDjKOGHUfO8AA',\n",
              " 'g-BP8lJLvBCSMtd8464skivQTlKFvjHfJqxHpztdiy0XugruYz4uQ51ujEzubO5SUvmjnrb9YEGxMw',\n",
              " 'Glwd8wNDDXfFMtxljipSzMFEJ_Kc-X9ckyPo0j1OmYxdBvZthq1eM6L920cgbDqv88jNgaiOQnMzZA',\n",
              " 'JlG7R9LFVjAZebiVtMYah27wHiwYXi9N_fCeIyspxEay8TBHFlV9r_5vEhN2ibapjWTcZQsfNEpeCA',\n",
              " 'r6VxhJC34vPQZmCrxhooGnfuzVyZVhLG4Cb_f42mKo9dPdRcgd5-HigS3-Qju1T3fbRsk-hmcT7Lug',\n",
              " '6Y7TVd5W86TU2dqZPozC88EuqFNUR0Ob1-T6EIDKarFuD497haBzuWiAnte5-GZvjgHpElr06U8QYw',\n",
              " 'CRXR8G7ZL2yOuvTiwTrqVJb7hepRRyyjPqeqZESPDT8or6CQPBA-Tu3QzGZ2YSL5MjTFBHDa0ld-3g',\n",
              " '1GckJ7o6SUPsJ2gQQgojbQGH2GwMJtPJAqY1GrpLzDWbBQWCZp6FKGTm979LToV_dfU4R0rU717xSQ',\n",
              " 'fgQoSxRxrFLSGDBxD0qQV9xnLkPzOjb7Ruvx0rfVINJ8zR4xhTVIZACAFxeM5RyswzeCpmcPldAMqw',\n",
              " 'gl8-zhsmpXjzfDRN22W6OFl9fNrZnPElfYgG4BXA52fuu4yPrJtUE9T0ionLekZUGQ9ICT2jgPyGDw',\n",
              " 'fOQgGBqdrymvdARw39wMAAsM-T7AqmgRBPYdlW6vy7kbwEir0vCia7yFYuvlKHCkVO5os7HOZfK3bg',\n",
              " '71g567I5iLwor6fi5hvOLo6KMsKZpHDbZXc3KA4riuNIZgNQP-gq8Cs_8w_jPeGo6RE-L-E9lq9woQ',\n",
              " 'i0vsXyhE1OZlToYnSJmb7ePEgQLzszNR-SG6zOjidm1W46bcZLlGMo2X83yyyRH2WMnC-rSlJN2LKg',\n",
              " '52gLmLjnzj5z3Lq_GT44nUbbosp2-y-A6QY7pOpN8JrUCNT0hHPBnL2flp2n90r-L2aKdqHpxEt_xw',\n",
              " 'oFkrSPMP5q5nCAzcy6CMfNDLfUITczWK5t9U6uOoF4bsh3c0dOpJQGx8UDgT3KYy2Wb9wpXsqg6-2Q',\n",
              " '8wDE2FtBxGg41v_qB_Rr39ZuMIk2t7y0SS8bAoG5ZJoutSFfJ92JYdzvkJliroP6J28Wz0QUGDtjMw',\n",
              " 'Wzcq8RF5AxzIfhReJ5xiCYCn51N3lx9v2muK0LDkyoiBTmWLY3PlsYPwz5TaYihHrVO_uObAXP1y3g',\n",
              " 'eTX-kQdoiy_4ZyZy_i-YQJ-bbH3lbAIYyh-q6e4r5M-LfEgW3iNPmGvjoygn0hvNvGbqJVBgDHFpgA',\n",
              " 'jHwkCH4rrnf6YD3olw5ldRz3gUzxFl7lyfS0yH3lKVSltdsbeHHJNaKtR-CIfJCoJJvPq9j2wxLDGQ',\n",
              " '-Tw8-RrCZYS1vtOM71votxAviaXP1V_mv17IYwvl_vinA1xso7a1Jw__Zj1SY6YMEJP5rb5FQhcsQA',\n",
              " 'VZMKMIVxBUvAZVpQ8i-4EwCnj4WpeOD-0gTTqPl6lLvyqBXGxMownqQLWHohYb4OIGsawNyWyAJIrA',\n",
              " 'x2Z7cV8Kc6ugN4N-2TMyU1TENnVrRZve45DYlLjewuuWcslfKHC040woGGNFO1K5Q73EWVh6QtD-7A',\n",
              " 'wKVaepQBLt__7_O52irjJu-SZZO3k-fWo_ZpGTRxwqmGl6mi44RS5Cr9-9VZLsnvcgAeSG4Jqi7SLw',\n",
              " 'VbNTtWF3wyXitGR0WEYiCzeh83kPaZtYLVG0khZadZk1vIihFsbDR2n_4vOULo8-q6piD8jXao_NvQ',\n",
              " '_XYzxgYNqHMIiMWjspkFN--dNu-pSJO0nLYq5FXWeDXbP26kQv4Cij5p_9zDws8F5D1q2unKquTSUw',\n",
              " 'Pokk7Eq6m_p9e9jQlD5bhkr2lIX_1BwDxr146y6Ktp3TJrDSmw9Dxs_cDLXMQ-eg_7mKJKGv31gong',\n",
              " 'wFBORrmK5d4m7PRlN47rwp-Q1r3Dih30KlOG5xSWKRQ-A2kaTv0G1kKwsCpruDalfUu8DbKYMF_pnQ',\n",
              " '1CH37k6eTnhKzNMuEcL9eGAR2ZRycOOUZ7rNMrFOfEM7jquTVnRIJY3prllsTUB0O8fkC7KYY76bww',\n",
              " 'iYv7TTaNem_uHM2rxNKRAHftuc59tZSc9DJYROS91NP3cCgSid_J9-6rpik2rIk1VQ1Qjv2tsF98Lg',\n",
              " 'QPiyqZSTSsxUcksmCY2d-ilfsE6P1ptKQYKrk1WiMk0PPY8E_vaDaKhFC50MtHp7GR4BLRZov8UX7w',\n",
              " 'UltYjcXyffPlYUvVkMKScO6FCTSwZHZv19f0zNlfZ2EutXFAJMnjXnhVaDwjwIfBmz8xK3EGu9_GsQ',\n",
              " 'KySa8yH2LrC7SLeb4n9S-c-s9s7ea30s9XxEiu3aY_7z899BOAUABDu6lccaEqIJujIwUdMn1WWfMg',\n",
              " 'fKLdHFPPn-XFsUSh84sMTN-ysZJAeT7J4_lvysAtKnmXxmaxfaIiuedgxEqqr0X_h45rw-dWspsgGw',\n",
              " 'gYxcNpP27SLAYW4krNfOP_N6Rg6X_vmmLQ9cJIEnv2UkN-SfZ2_YLCutAcPJUgE_88-JitwdNw3z4A',\n",
              " 'BgGPTnAe-nQwLsHgqXU1jCVzCbgFYL6FQRSVwlM4XHLx_jPXkBDIlXa1-Rr5BLKsLt-O7AU6RCv7IA',\n",
              " 'qunxtII7ocNoMDWbOhXUXB253E9XUzBNIJfezxItnuyeY9Efwhb6IGVtmVoFxJ0opDbo5ZZlTBvAZg']"
            ]
          },
          "metadata": {},
          "execution_count": 52
        }
      ]
    },
    {
      "cell_type": "markdown",
      "source": [
        "## Use PUUID to get Match Id"
      ],
      "metadata": {
        "id": "BkKkq-w5VV-_"
      }
    },
    {
      "cell_type": "code",
      "source": [
        "def get_match_id(puuid):\n",
        "    match_id_list=[]\n",
        "    for i in range(len(puuid)):\n",
        "      get_match= \"https://americas.api.riotgames.com/lol/match/v5/matches/by-puuid/\" +str(puuid[i])+ \"/ids?type=ranked&start=0&count=3\" + '&api_key=' + my_key\n",
        "      match_info = requests.get(get_match).json()\n",
        "      match_id_list.append(match_info)\n",
        "\n",
        "    return match_id_list"
      ],
      "metadata": {
        "id": "pDXbL6DgyR7I"
      },
      "execution_count": 53,
      "outputs": []
    },
    {
      "cell_type": "code",
      "source": [
        "match_id=get_match_id(puuid)"
      ],
      "metadata": {
        "id": "yiR4ooaXre-T"
      },
      "execution_count": 54,
      "outputs": []
    },
    {
      "cell_type": "code",
      "source": [
        "len(match_id)"
      ],
      "metadata": {
        "colab": {
          "base_uri": "https://localhost:8080/"
        },
        "id": "nIYteIT_2FNV",
        "outputId": "ffc4a4ca-0e83-4d41-a8e1-b15f5d8d7bf1"
      },
      "execution_count": 55,
      "outputs": [
        {
          "output_type": "execute_result",
          "data": {
            "text/plain": [
              "96"
            ]
          },
          "metadata": {},
          "execution_count": 55
        }
      ]
    },
    {
      "cell_type": "code",
      "source": [
        "match_id"
      ],
      "metadata": {
        "colab": {
          "base_uri": "https://localhost:8080/"
        },
        "id": "FiJWrPCPXjkF",
        "outputId": "d908a3a2-c4e7-40c5-c4e2-3a34bd4da059"
      },
      "execution_count": 56,
      "outputs": [
        {
          "output_type": "execute_result",
          "data": {
            "text/plain": [
              "[['NA1_4629627887', 'NA1_4629596662', 'NA1_4629589096'],\n",
              " ['NA1_4622424423', 'NA1_4620085868', 'NA1_4616749351'],\n",
              " ['NA1_4614923851', 'NA1_4614888192', 'NA1_4614865613'],\n",
              " ['NA1_4655556349', 'NA1_4655550240', 'NA1_4655547983'],\n",
              " ['NA1_4617587223', 'NA1_4617541771', 'NA1_4617498956'],\n",
              " ['NA1_4653177057', 'NA1_4652341859', 'NA1_4652316848'],\n",
              " ['NA1_4649654044', 'NA1_4649614455', 'NA1_4649598772'],\n",
              " ['NA1_4655835090', 'NA1_4655077180', 'NA1_4654339825'],\n",
              " ['NA1_4627493758', 'NA1_4627451249', 'NA1_4627412801'],\n",
              " ['NA1_4606985364', 'NA1_4606939918', 'NA1_4606376387'],\n",
              " ['NA1_4652737485', 'NA1_4652710076', 'NA1_4652663660'],\n",
              " ['NA1_4637375702', 'NA1_4637367808', 'NA1_4637337688'],\n",
              " ['NA1_4654150160', 'NA1_4654082071', 'NA1_4654037669'],\n",
              " ['NA1_4654418051', 'NA1_4636163525', 'NA1_4631444712'],\n",
              " ['NA1_4655860804', 'NA1_4655628128', 'NA1_4655611964'],\n",
              " ['NA1_4650874211', 'NA1_4649831258', 'NA1_4649799621'],\n",
              " ['NA1_4654399438', 'NA1_4653398587', 'NA1_4651860327'],\n",
              " ['NA1_4655009064', 'NA1_4654983754', 'NA1_4654948451'],\n",
              " ['NA1_4654120561', 'NA1_4654107288', 'NA1_4654001754'],\n",
              " ['NA1_4654001754', 'NA1_4653987874', 'NA1_4653943901'],\n",
              " ['NA1_4654017866', 'NA1_4653975055', 'NA1_4653951106'],\n",
              " ['NA1_4599550715', 'NA1_4599551813', 'NA1_4599538749'],\n",
              " ['NA1_4648735815', 'NA1_4648704026', 'NA1_4647492714'],\n",
              " ['NA1_4652015824', 'NA1_4651961266', 'NA1_4651860327'],\n",
              " ['NA1_4655336521', 'NA1_4655296592', 'NA1_4654172054'],\n",
              " ['NA1_4632490512', 'NA1_4631201269', 'NA1_4631151281'],\n",
              " ['NA1_4622413904', 'NA1_4622373565', 'NA1_4620594925'],\n",
              " ['NA1_4655834810', 'NA1_4655466809', 'NA1_4653965628'],\n",
              " ['NA1_4653438132', 'NA1_4610730988', 'NA1_4609380163'],\n",
              " ['NA1_4652266543', 'NA1_4651758111', 'NA1_4650767625'],\n",
              " ['NA1_4622708199', 'NA1_4613202971', 'NA1_4607768928'],\n",
              " ['NA1_4653999232', 'NA1_4653975055', 'NA1_4653951106'],\n",
              " ['NA1_4655273641', 'NA1_4655222450', 'NA1_4654065120'],\n",
              " ['NA1_4655843859', 'NA1_4655814045', 'NA1_4655616287'],\n",
              " ['NA1_4653362717', 'NA1_4653321223', 'NA1_4653266240'],\n",
              " ['NA1_4651217698', 'NA1_4651216736', 'NA1_4651204039'],\n",
              " ['NA1_4652279917', 'NA1_4652124537', 'NA1_4652102701'],\n",
              " ['NA1_4636340485', 'NA1_4636307458', 'NA1_4635482607'],\n",
              " ['NA1_4638358868', 'NA1_4638313141', 'NA1_4638294808'],\n",
              " ['NA1_4653118810', 'NA1_4652710076', 'NA1_4652283846'],\n",
              " ['NA1_4655843859', 'NA1_4654491254', 'NA1_4654353978'],\n",
              " ['NA1_4653813510', 'NA1_4653285265', 'NA1_4653250084'],\n",
              " ['NA1_4624102859', 'NA1_4623960417', 'NA1_4623905698'],\n",
              " ['NA1_4653271532', 'NA1_4653250084', 'NA1_4653227782'],\n",
              " ['NA1_4655843859', 'NA1_4655834810', 'NA1_4655801852'],\n",
              " ['NA1_4655865022', 'NA1_4655850745', 'NA1_4655338607'],\n",
              " ['NA1_4652711380', 'NA1_4652686742', 'NA1_4652646583'],\n",
              " ['NA1_4655417133', 'NA1_4655392881', 'NA1_4655357195'],\n",
              " ['NA1_4655860804', 'NA1_4655339615', 'NA1_4653666271'],\n",
              " ['NA1_4655852120', 'NA1_4655272857', 'NA1_4655197685'],\n",
              " ['NA1_4628266310', 'NA1_4628241738', 'NA1_4628208817'],\n",
              " ['NA1_4622835316', 'NA1_4622723890', 'NA1_4621562024'],\n",
              " ['NA1_4655370404', 'NA1_4653951106', 'NA1_4652787788'],\n",
              " ['NA1_4652266543', 'NA1_4652249293', 'NA1_4651550711'],\n",
              " ['NA1_4627478384', 'NA1_4620436526', 'NA1_4620390028'],\n",
              " ['NA1_4632827176', 'NA1_4632785188', 'NA1_4630948571'],\n",
              " ['NA1_4655858368', 'NA1_4655835090', 'NA1_4655802338'],\n",
              " ['NA1_4655788343', 'NA1_4655480736', 'NA1_4655449962'],\n",
              " ['NA1_4625031143', 'NA1_4624977200', 'NA1_4624937770'],\n",
              " ['NA1_4641643527', 'NA1_4641640142', 'NA1_4640842971'],\n",
              " ['NA1_4655860251', 'NA1_4655780262', 'NA1_4651758111'],\n",
              " ['NA1_4637213858', 'NA1_4636421415', 'NA1_4636403573'],\n",
              " ['NA1_4654067476', 'NA1_4654036008', 'NA1_4653970778'],\n",
              " ['NA1_4613978784', 'NA1_4613955097', 'NA1_4613923250'],\n",
              " ['NA1_4655703466', 'NA1_4655685946', 'NA1_4655536841'],\n",
              " ['NA1_4619395362', 'NA1_4618579068', 'NA1_4618524593'],\n",
              " ['NA1_4650390719', 'NA1_4650372507', 'NA1_4641982912'],\n",
              " ['NA1_4652283846', 'NA1_4650767625', 'NA1_4650738344'],\n",
              " ['NA1_4654089310', 'NA1_4653913267', 'NA1_4653886156'],\n",
              " ['NA1_4651216736', 'NA1_4651204039', 'NA1_4651194926'],\n",
              " ['NA1_4638671131', 'NA1_4635880624', 'NA1_4635843652'],\n",
              " ['NA1_4655822568', 'NA1_4655222450', 'NA1_4654353978'],\n",
              " ['NA1_4653449204', 'NA1_4653403346', 'NA1_4653328366'],\n",
              " ['NA1_4655296592', 'NA1_4646013074', 'NA1_4645490064'],\n",
              " ['NA1_4639096831', 'NA1_4635270387', 'NA1_4634575283'],\n",
              " ['NA1_4655790498', 'NA1_4655770078', 'NA1_4655741918'],\n",
              " ['NA1_4655834810', 'NA1_4655813499', 'NA1_4655396514'],\n",
              " ['NA1_4652737485', 'NA1_4652710076', 'NA1_4652651547'],\n",
              " ['NA1_4651522245', 'NA1_4651490415', 'NA1_4651455635'],\n",
              " ['NA1_4652042932', 'NA1_4652026413', 'NA1_4650334004'],\n",
              " ['NA1_4627189498', 'NA1_4627163712', 'NA1_4626493636'],\n",
              " ['NA1_4655781562', 'NA1_4652375261', 'NA1_4652345672'],\n",
              " ['NA1_4655556349', 'NA1_4655546305', 'NA1_4655533039'],\n",
              " ['NA1_4653222833', 'NA1_4653189966', 'NA1_4649862363'],\n",
              " ['NA1_4607019782', 'NA1_4606956849', 'NA1_4606905558'],\n",
              " ['NA1_4649132104', 'NA1_4647734556', 'NA1_4647394255'],\n",
              " ['NA1_4655077180', 'NA1_4655010550', 'NA1_4654984304'],\n",
              " ['NA1_4654665403', 'NA1_4652066067', 'NA1_4652055137'],\n",
              " ['NA1_4654682749', 'NA1_4653863937', 'NA1_4646868774'],\n",
              " ['NA1_4654968210', 'NA1_4654942924', 'NA1_4653987874'],\n",
              " ['NA1_4655865022', 'NA1_4655825035', 'NA1_4655770078'],\n",
              " ['NA1_4652992011', 'NA1_4652963442', 'NA1_4652946643'],\n",
              " ['NA1_4654923195', 'NA1_4654286695', 'NA1_4654270293'],\n",
              " ['NA1_4624796135', 'NA1_4618387610', 'NA1_4616516570'],\n",
              " ['NA1_4655865022', 'NA1_4655843859', 'NA1_4655814045'],\n",
              " ['NA1_4615881082', 'NA1_4615866988', 'NA1_4615835406']]"
            ]
          },
          "metadata": {},
          "execution_count": 56
        }
      ]
    },
    {
      "cell_type": "code",
      "source": [
        "combined_match_id=[]\n",
        "for i in match_id:\n",
        "    combined_match_id += i\n",
        "len(combined_match_id)"
      ],
      "metadata": {
        "colab": {
          "base_uri": "https://localhost:8080/"
        },
        "id": "04Y30JsV5GHb",
        "outputId": "02627fd2-33cf-4175-c143-6e5afa94fd24"
      },
      "execution_count": 57,
      "outputs": [
        {
          "output_type": "execute_result",
          "data": {
            "text/plain": [
              "288"
            ]
          },
          "metadata": {},
          "execution_count": 57
        }
      ]
    },
    {
      "cell_type": "markdown",
      "source": [
        "## Remove Duplicate in match_id in case they are in the same game"
      ],
      "metadata": {
        "id": "dFBxrWeoVeTI"
      }
    },
    {
      "cell_type": "code",
      "source": [
        "final_combined_match_id = list(set(combined_match_id))"
      ],
      "metadata": {
        "id": "n9KMmveK5lMf"
      },
      "execution_count": 58,
      "outputs": []
    },
    {
      "cell_type": "code",
      "source": [
        "len(final_combined_match_id)"
      ],
      "metadata": {
        "colab": {
          "base_uri": "https://localhost:8080/"
        },
        "id": "uves94HN7CC1",
        "outputId": "7b29d1b7-abb1-456e-b998-3261306005ed"
      },
      "execution_count": 59,
      "outputs": [
        {
          "output_type": "execute_result",
          "data": {
            "text/plain": [
              "256"
            ]
          },
          "metadata": {},
          "execution_count": 59
        }
      ]
    },
    {
      "cell_type": "markdown",
      "source": [
        "## Get match info with match-id"
      ],
      "metadata": {
        "id": "c4OoJuZsVksG"
      }
    },
    {
      "cell_type": "code",
      "source": [
        "def get_game_info(final_combined_match_id):\n",
        "  mydf_list=[]\n",
        "  for i in final_combined_match_id[:10]:\n",
        "    get_in_game_info_=\"https://americas.api.riotgames.com/lol/match/v5/matches/\" +str(i)+ '?api_key=' + my_key \n",
        "    In_game_info = requests.get(get_in_game_info_).json()\n",
        "    In_game_info=In_game_info[\"info\"][\"participants\"] \n",
        "    mydf_list.append(pd.DataFrame.from_dict(In_game_info))\n",
        "  df1=pd.concat(mydf_list)\n",
        "  return df1\n"
      ],
      "metadata": {
        "id": "JUEqG-kuvOiJ"
      },
      "execution_count": 78,
      "outputs": []
    },
    {
      "cell_type": "code",
      "source": [
        "list1=get_game_info(final_combined_match_id)\n",
        "    "
      ],
      "metadata": {
        "id": "ruZyUNkpZHNk"
      },
      "execution_count": 79,
      "outputs": []
    },
    {
      "cell_type": "code",
      "source": [
        "list1.shape"
      ],
      "metadata": {
        "colab": {
          "base_uri": "https://localhost:8080/"
        },
        "id": "4hjezDe_eySt",
        "outputId": "aa3ba1c7-4023-483c-e274-9a65f09ee165"
      },
      "execution_count": 81,
      "outputs": [
        {
          "output_type": "execute_result",
          "data": {
            "text/plain": [
              "(100, 123)"
            ]
          },
          "metadata": {},
          "execution_count": 81
        }
      ]
    },
    {
      "cell_type": "code",
      "source": [
        "list1.head()"
      ],
      "metadata": {
        "colab": {
          "base_uri": "https://localhost:8080/",
          "height": 382
        },
        "id": "g9PAglCGe3wY",
        "outputId": "391c72b2-e624-4c04-8c46-ffd87e42c0d3"
      },
      "execution_count": 82,
      "outputs": [
        {
          "output_type": "execute_result",
          "data": {
            "text/plain": [
              "   allInPings  assistMePings  assists  baitPings  baronKills  basicPings  \\\n",
              "0           0              0        5          0           0           0   \n",
              "1           0              1        7          0           0           0   \n",
              "2           0              0        7          0           0           0   \n",
              "3           0              1        7          0           0           0   \n",
              "4           0              0        6          0           0           0   \n",
              "\n",
              "   bountyLevel                                         challenges  \\\n",
              "0            0  {'12AssistStreakCount': 0, 'abilityUses': 339,...   \n",
              "1            3  {'12AssistStreakCount': 0, 'abilityUses': 241,...   \n",
              "2            5  {'12AssistStreakCount': 0, 'abilityUses': 224,...   \n",
              "3            0  {'12AssistStreakCount': 0, 'abilityUses': 219,...   \n",
              "4            0  {'12AssistStreakCount': 0, 'abilityUses': 121,...   \n",
              "\n",
              "   champExperience  champLevel  ...  turretKills turretTakedowns  turretsLost  \\\n",
              "0             9830          12  ...            2               3            0   \n",
              "1             8838          12  ...            3               3            0   \n",
              "2             9524          12  ...            0               1            0   \n",
              "3             7451          11  ...            1               2            0   \n",
              "4             6549          10  ...            2               5            0   \n",
              "\n",
              "   unrealKills  visionClearedPings  visionScore  visionWardsBoughtInGame  \\\n",
              "0            0                   0           20                        3   \n",
              "1            0                   0           10                        0   \n",
              "2            0                   0           15                        2   \n",
              "3            0                   0            6                        0   \n",
              "4            0                   0           39                        3   \n",
              "\n",
              "   wardsKilled  wardsPlaced   win  \n",
              "0            1            9  True  \n",
              "1            3            1  True  \n",
              "2            1            6  True  \n",
              "3            0            4  True  \n",
              "4            4           15  True  \n",
              "\n",
              "[5 rows x 123 columns]"
            ],
            "text/html": [
              "\n",
              "  <div id=\"df-f73fea6d-5dbd-45ca-90f9-b1c582fca322\">\n",
              "    <div class=\"colab-df-container\">\n",
              "      <div>\n",
              "<style scoped>\n",
              "    .dataframe tbody tr th:only-of-type {\n",
              "        vertical-align: middle;\n",
              "    }\n",
              "\n",
              "    .dataframe tbody tr th {\n",
              "        vertical-align: top;\n",
              "    }\n",
              "\n",
              "    .dataframe thead th {\n",
              "        text-align: right;\n",
              "    }\n",
              "</style>\n",
              "<table border=\"1\" class=\"dataframe\">\n",
              "  <thead>\n",
              "    <tr style=\"text-align: right;\">\n",
              "      <th></th>\n",
              "      <th>allInPings</th>\n",
              "      <th>assistMePings</th>\n",
              "      <th>assists</th>\n",
              "      <th>baitPings</th>\n",
              "      <th>baronKills</th>\n",
              "      <th>basicPings</th>\n",
              "      <th>bountyLevel</th>\n",
              "      <th>challenges</th>\n",
              "      <th>champExperience</th>\n",
              "      <th>champLevel</th>\n",
              "      <th>...</th>\n",
              "      <th>turretKills</th>\n",
              "      <th>turretTakedowns</th>\n",
              "      <th>turretsLost</th>\n",
              "      <th>unrealKills</th>\n",
              "      <th>visionClearedPings</th>\n",
              "      <th>visionScore</th>\n",
              "      <th>visionWardsBoughtInGame</th>\n",
              "      <th>wardsKilled</th>\n",
              "      <th>wardsPlaced</th>\n",
              "      <th>win</th>\n",
              "    </tr>\n",
              "  </thead>\n",
              "  <tbody>\n",
              "    <tr>\n",
              "      <th>0</th>\n",
              "      <td>0</td>\n",
              "      <td>0</td>\n",
              "      <td>5</td>\n",
              "      <td>0</td>\n",
              "      <td>0</td>\n",
              "      <td>0</td>\n",
              "      <td>0</td>\n",
              "      <td>{'12AssistStreakCount': 0, 'abilityUses': 339,...</td>\n",
              "      <td>9830</td>\n",
              "      <td>12</td>\n",
              "      <td>...</td>\n",
              "      <td>2</td>\n",
              "      <td>3</td>\n",
              "      <td>0</td>\n",
              "      <td>0</td>\n",
              "      <td>0</td>\n",
              "      <td>20</td>\n",
              "      <td>3</td>\n",
              "      <td>1</td>\n",
              "      <td>9</td>\n",
              "      <td>True</td>\n",
              "    </tr>\n",
              "    <tr>\n",
              "      <th>1</th>\n",
              "      <td>0</td>\n",
              "      <td>1</td>\n",
              "      <td>7</td>\n",
              "      <td>0</td>\n",
              "      <td>0</td>\n",
              "      <td>0</td>\n",
              "      <td>3</td>\n",
              "      <td>{'12AssistStreakCount': 0, 'abilityUses': 241,...</td>\n",
              "      <td>8838</td>\n",
              "      <td>12</td>\n",
              "      <td>...</td>\n",
              "      <td>3</td>\n",
              "      <td>3</td>\n",
              "      <td>0</td>\n",
              "      <td>0</td>\n",
              "      <td>0</td>\n",
              "      <td>10</td>\n",
              "      <td>0</td>\n",
              "      <td>3</td>\n",
              "      <td>1</td>\n",
              "      <td>True</td>\n",
              "    </tr>\n",
              "    <tr>\n",
              "      <th>2</th>\n",
              "      <td>0</td>\n",
              "      <td>0</td>\n",
              "      <td>7</td>\n",
              "      <td>0</td>\n",
              "      <td>0</td>\n",
              "      <td>0</td>\n",
              "      <td>5</td>\n",
              "      <td>{'12AssistStreakCount': 0, 'abilityUses': 224,...</td>\n",
              "      <td>9524</td>\n",
              "      <td>12</td>\n",
              "      <td>...</td>\n",
              "      <td>0</td>\n",
              "      <td>1</td>\n",
              "      <td>0</td>\n",
              "      <td>0</td>\n",
              "      <td>0</td>\n",
              "      <td>15</td>\n",
              "      <td>2</td>\n",
              "      <td>1</td>\n",
              "      <td>6</td>\n",
              "      <td>True</td>\n",
              "    </tr>\n",
              "    <tr>\n",
              "      <th>3</th>\n",
              "      <td>0</td>\n",
              "      <td>1</td>\n",
              "      <td>7</td>\n",
              "      <td>0</td>\n",
              "      <td>0</td>\n",
              "      <td>0</td>\n",
              "      <td>0</td>\n",
              "      <td>{'12AssistStreakCount': 0, 'abilityUses': 219,...</td>\n",
              "      <td>7451</td>\n",
              "      <td>11</td>\n",
              "      <td>...</td>\n",
              "      <td>1</td>\n",
              "      <td>2</td>\n",
              "      <td>0</td>\n",
              "      <td>0</td>\n",
              "      <td>0</td>\n",
              "      <td>6</td>\n",
              "      <td>0</td>\n",
              "      <td>0</td>\n",
              "      <td>4</td>\n",
              "      <td>True</td>\n",
              "    </tr>\n",
              "    <tr>\n",
              "      <th>4</th>\n",
              "      <td>0</td>\n",
              "      <td>0</td>\n",
              "      <td>6</td>\n",
              "      <td>0</td>\n",
              "      <td>0</td>\n",
              "      <td>0</td>\n",
              "      <td>0</td>\n",
              "      <td>{'12AssistStreakCount': 0, 'abilityUses': 121,...</td>\n",
              "      <td>6549</td>\n",
              "      <td>10</td>\n",
              "      <td>...</td>\n",
              "      <td>2</td>\n",
              "      <td>5</td>\n",
              "      <td>0</td>\n",
              "      <td>0</td>\n",
              "      <td>0</td>\n",
              "      <td>39</td>\n",
              "      <td>3</td>\n",
              "      <td>4</td>\n",
              "      <td>15</td>\n",
              "      <td>True</td>\n",
              "    </tr>\n",
              "  </tbody>\n",
              "</table>\n",
              "<p>5 rows × 123 columns</p>\n",
              "</div>\n",
              "      <button class=\"colab-df-convert\" onclick=\"convertToInteractive('df-f73fea6d-5dbd-45ca-90f9-b1c582fca322')\"\n",
              "              title=\"Convert this dataframe to an interactive table.\"\n",
              "              style=\"display:none;\">\n",
              "        \n",
              "  <svg xmlns=\"http://www.w3.org/2000/svg\" height=\"24px\"viewBox=\"0 0 24 24\"\n",
              "       width=\"24px\">\n",
              "    <path d=\"M0 0h24v24H0V0z\" fill=\"none\"/>\n",
              "    <path d=\"M18.56 5.44l.94 2.06.94-2.06 2.06-.94-2.06-.94-.94-2.06-.94 2.06-2.06.94zm-11 1L8.5 8.5l.94-2.06 2.06-.94-2.06-.94L8.5 2.5l-.94 2.06-2.06.94zm10 10l.94 2.06.94-2.06 2.06-.94-2.06-.94-.94-2.06-.94 2.06-2.06.94z\"/><path d=\"M17.41 7.96l-1.37-1.37c-.4-.4-.92-.59-1.43-.59-.52 0-1.04.2-1.43.59L10.3 9.45l-7.72 7.72c-.78.78-.78 2.05 0 2.83L4 21.41c.39.39.9.59 1.41.59.51 0 1.02-.2 1.41-.59l7.78-7.78 2.81-2.81c.8-.78.8-2.07 0-2.86zM5.41 20L4 18.59l7.72-7.72 1.47 1.35L5.41 20z\"/>\n",
              "  </svg>\n",
              "      </button>\n",
              "      \n",
              "  <style>\n",
              "    .colab-df-container {\n",
              "      display:flex;\n",
              "      flex-wrap:wrap;\n",
              "      gap: 12px;\n",
              "    }\n",
              "\n",
              "    .colab-df-convert {\n",
              "      background-color: #E8F0FE;\n",
              "      border: none;\n",
              "      border-radius: 50%;\n",
              "      cursor: pointer;\n",
              "      display: none;\n",
              "      fill: #1967D2;\n",
              "      height: 32px;\n",
              "      padding: 0 0 0 0;\n",
              "      width: 32px;\n",
              "    }\n",
              "\n",
              "    .colab-df-convert:hover {\n",
              "      background-color: #E2EBFA;\n",
              "      box-shadow: 0px 1px 2px rgba(60, 64, 67, 0.3), 0px 1px 3px 1px rgba(60, 64, 67, 0.15);\n",
              "      fill: #174EA6;\n",
              "    }\n",
              "\n",
              "    [theme=dark] .colab-df-convert {\n",
              "      background-color: #3B4455;\n",
              "      fill: #D2E3FC;\n",
              "    }\n",
              "\n",
              "    [theme=dark] .colab-df-convert:hover {\n",
              "      background-color: #434B5C;\n",
              "      box-shadow: 0px 1px 3px 1px rgba(0, 0, 0, 0.15);\n",
              "      filter: drop-shadow(0px 1px 2px rgba(0, 0, 0, 0.3));\n",
              "      fill: #FFFFFF;\n",
              "    }\n",
              "  </style>\n",
              "\n",
              "      <script>\n",
              "        const buttonEl =\n",
              "          document.querySelector('#df-f73fea6d-5dbd-45ca-90f9-b1c582fca322 button.colab-df-convert');\n",
              "        buttonEl.style.display =\n",
              "          google.colab.kernel.accessAllowed ? 'block' : 'none';\n",
              "\n",
              "        async function convertToInteractive(key) {\n",
              "          const element = document.querySelector('#df-f73fea6d-5dbd-45ca-90f9-b1c582fca322');\n",
              "          const dataTable =\n",
              "            await google.colab.kernel.invokeFunction('convertToInteractive',\n",
              "                                                     [key], {});\n",
              "          if (!dataTable) return;\n",
              "\n",
              "          const docLinkHtml = 'Like what you see? Visit the ' +\n",
              "            '<a target=\"_blank\" href=https://colab.research.google.com/notebooks/data_table.ipynb>data table notebook</a>'\n",
              "            + ' to learn more about interactive tables.';\n",
              "          element.innerHTML = '';\n",
              "          dataTable['output_type'] = 'display_data';\n",
              "          await google.colab.output.renderOutput(dataTable, element);\n",
              "          const docLink = document.createElement('div');\n",
              "          docLink.innerHTML = docLinkHtml;\n",
              "          element.appendChild(docLink);\n",
              "        }\n",
              "      </script>\n",
              "    </div>\n",
              "  </div>\n",
              "  "
            ]
          },
          "metadata": {},
          "execution_count": 82
        }
      ]
    }
  ]
}