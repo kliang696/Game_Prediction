{
  "cells": [
    {
      "cell_type": "code",
      "execution_count": null,
      "metadata": {
        "colab": {
          "base_uri": "https://localhost:8080/"
        },
        "id": "nHnp0Q9d3sRA",
        "outputId": "e38f7b37-7a9e-48c6-be59-7a15aa5b39d8"
      },
      "outputs": [],
      "source": [
        "from google.colab import drive\n",
        "drive.mount('/content/drive')"
      ]
    },
    {
      "cell_type": "code",
      "execution_count": null,
      "metadata": {
        "id": "OCSSnzEM4b_y"
      },
      "outputs": [],
      "source": [
        "import pandas as pd\n",
        "import numpy as np\n",
        "import seaborn as sns\n",
        "import matplotlib.pyplot as plt\n",
        "import warnings\n",
        "warnings.filterwarnings(\"ignore\")"
      ]
    },
    {
      "attachments": {},
      "cell_type": "markdown",
      "metadata": {
        "id": "16rP0epNQu_9"
      },
      "source": [
        "## Read Data"
      ]
    },
    {
      "cell_type": "code",
      "execution_count": null,
      "metadata": {
        "id": "o4cVhTqk33v4"
      },
      "outputs": [],
      "source": [
        "df = pd.read_csv(\"/content/drive/MyDrive/league/final_data.csv\")"
      ]
    },
    {
      "attachments": {},
      "cell_type": "markdown",
      "metadata": {
        "id": "8BanfLeiwRZW"
      },
      "source": [
        "## Drop Unnecessary Features"
      ]
    },
    {
      "cell_type": "code",
      "execution_count": null,
      "metadata": {
        "id": "_hDKFRcnwVjh"
      },
      "outputs": [],
      "source": [
        "df=df.drop([\"championId\",\"teamId\",\"allInPings\",\"needVisionPings\",\"sightWardsBoughtInGame\",\"unrealKills\",\"teamEarlySurrendered\",\"totalHealsOnTeammates\",\"riotIdTagline\",\"riotIdName\",\"summonerLevel\",\"summoner1Casts\",\"summoner1Id\",\"summoner2Casts\",\"summoner2Id\",\"pushPings\",\"assistMePings\",\"baitPings\",\"basicPings\",\"totalTimeSpentDead\",\"championTransform\",\"commandPings\",\"dangerPings\",\"eligibleForProgression\",\"enemyMissingPings\",\"enemyVisionPings\",\"getBackPings\",\"holdPings\",\"onMyWayPings\",\"profileIcon\",\"nexusLost\",\"gameEndedInSurrender\",\"nexusTakedowns\",\"bountyLevel\",\"nexusKills\",\"participantId\",\"challenges\",\"lane\",\"perks\",\"puuid\",\"role\",\"summonerId\",\"summonerName\",\"teamPosition\",\"longestTimeSpentLiving\",\"goldSpent\",\"spell1Casts\",\"spell2Casts\",\"spell3Casts\",\"spell4Casts\",\"item0\",\"item1\",\"item2\",\"item3\",\"item4\",\"item5\",\"item6\"],axis=1)"
      ]
    },
    {
      "attachments": {},
      "cell_type": "markdown",
      "metadata": {
        "id": "5NWZFRi0HfeB"
      },
      "source": [
        "## EDA"
      ]
    },
    {
      "attachments": {},
      "cell_type": "markdown",
      "metadata": {
        "id": "25zlUNNWHknm"
      },
      "source": [
        "### Check Duplicate"
      ]
    },
    {
      "cell_type": "code",
      "execution_count": null,
      "metadata": {
        "colab": {
          "base_uri": "https://localhost:8080/",
          "height": 142
        },
        "id": "KiIGYLu1IHDq",
        "outputId": "8917b6ec-158b-4fb3-8d1c-2c3db9939de0"
      },
      "outputs": [],
      "source": [
        "df[df.duplicated()]"
      ]
    },
    {
      "cell_type": "code",
      "execution_count": null,
      "metadata": {
        "colab": {
          "base_uri": "https://localhost:8080/"
        },
        "id": "Su1SVl3fQfji",
        "outputId": "41dc200d-dc13-47bc-c6d9-0a2969a20601"
      },
      "outputs": [],
      "source": [
        "df.info()"
      ]
    },
    {
      "attachments": {},
      "cell_type": "markdown",
      "metadata": {
        "id": "QJL-46-6IPoO"
      },
      "source": [
        "### Check Missing values"
      ]
    },
    {
      "cell_type": "code",
      "execution_count": null,
      "metadata": {
        "colab": {
          "base_uri": "https://localhost:8080/"
        },
        "id": "0UXnMz0pISe4",
        "outputId": "98eb2c94-9f09-4d0a-d1c1-52b1baf91d1b"
      },
      "outputs": [],
      "source": [
        "df.isna().sum()"
      ]
    },
    {
      "attachments": {},
      "cell_type": "markdown",
      "metadata": {
        "id": "UwguZebNI5i5"
      },
      "source": [
        "### Check label balance"
      ]
    },
    {
      "cell_type": "code",
      "execution_count": null,
      "metadata": {
        "colab": {
          "base_uri": "https://localhost:8080/"
        },
        "id": "KLsNBaIUI7ba",
        "outputId": "cf5fc2ba-3b45-486d-c730-0cb50278bdac"
      },
      "outputs": [],
      "source": [
        "df[\"win\"].value_counts()"
      ]
    },
    {
      "attachments": {},
      "cell_type": "markdown",
      "metadata": {
        "id": "0-K5pP2gDV7E"
      },
      "source": [
        "### Label Encoding"
      ]
    },
    {
      "cell_type": "code",
      "execution_count": null,
      "metadata": {
        "id": "li-zY-BKDX48"
      },
      "outputs": [],
      "source": [
        "df[\"win\"] = df[\"win\"].replace({True: 1, False: 0})"
      ]
    },
    {
      "attachments": {},
      "cell_type": "markdown",
      "metadata": {
        "id": "mfmD7DAlJRnT"
      },
      "source": [
        "### Numerical Values"
      ]
    },
    {
      "attachments": {},
      "cell_type": "markdown",
      "metadata": {
        "id": "OH6-nHwOBLh9"
      },
      "source": [
        "#### Outlier Check"
      ]
    },
    {
      "cell_type": "code",
      "execution_count": null,
      "metadata": {
        "id": "sQi71_PpJTRe"
      },
      "outputs": [],
      "source": [
        "numerical = df.select_dtypes(include=[\"int64\",\"float64\",\"bool\"]).columns.tolist()"
      ]
    },
    {
      "cell_type": "code",
      "execution_count": null,
      "metadata": {
        "colab": {
          "base_uri": "https://localhost:8080/"
        },
        "id": "M8sFINy2GDPu",
        "outputId": "87f01055-2595-4fbc-b99b-bbef23d364d1"
      },
      "outputs": [],
      "source": [
        "len(numerical)"
      ]
    },
    {
      "cell_type": "code",
      "execution_count": null,
      "metadata": {
        "colab": {
          "base_uri": "https://localhost:8080/",
          "height": 1000
        },
        "id": "DR5iESsxJZ46",
        "outputId": "87d50a0e-9609-42b3-ea70-6a96c7cbe8ba"
      },
      "outputs": [],
      "source": [
        "fig, axs = plt.subplots(nrows=6, ncols=5, figsize=(15, 15))\n",
        "axs = axs.flatten()\n",
        "\n",
        "# Iterate through all the numerical columns and create a plot for each one\n",
        "for i, col in enumerate(numerical[:30]):\n",
        "    sns.histplot(x=df[col], ax=axs[i])\n",
        "plt.tight_layout()\n",
        "\n"
      ]
    },
    {
      "cell_type": "code",
      "execution_count": null,
      "metadata": {
        "colab": {
          "base_uri": "https://localhost:8080/",
          "height": 1000
        },
        "id": "kvG6DAlfZcfe",
        "outputId": "e9f54a6d-deab-4406-cd90-b18062d176f5"
      },
      "outputs": [],
      "source": [
        "fig, axs = plt.subplots(nrows=6, ncols=6, figsize=(15, 15))\n",
        "axs = axs.flatten()\n",
        "\n",
        "for i, col in enumerate(numerical[30:]):\n",
        "    sns.histplot(x=df[col], ax=axs[i])\n",
        "plt.tight_layout()\n",
        "plt.show()"
      ]
    },
    {
      "attachments": {},
      "cell_type": "markdown",
      "metadata": {
        "id": "wiUiFFqkDOHL"
      },
      "source": [
        "#### Correlation with Target"
      ]
    },
    {
      "cell_type": "code",
      "execution_count": null,
      "metadata": {
        "id": "REH1fTHE-5lH"
      },
      "outputs": [],
      "source": [
        "cor=df.corrwith(df[\"win\"]).sort_values(ascending=False)"
      ]
    },
    {
      "cell_type": "code",
      "execution_count": null,
      "metadata": {
        "colab": {
          "base_uri": "https://localhost:8080/",
          "height": 1000
        },
        "id": "3Z1e0tStCC-J",
        "outputId": "0a6aa555-9b23-4ebd-aa86-2c92af9496dc"
      },
      "outputs": [],
      "source": [
        "plt.figure(figsize=(8, 12))\n",
        "sns.barplot(x=cor.values, y=cor.index)\n"
      ]
    },
    {
      "attachments": {},
      "cell_type": "markdown",
      "metadata": {
        "id": "tnbgW-2kv1ew"
      },
      "source": [
        "## Feature Engineer"
      ]
    },
    {
      "attachments": {},
      "cell_type": "markdown",
      "metadata": {
        "id": "t2BKoULh5sXW"
      },
      "source": [
        "### Catgorical Feature encoding"
      ]
    },
    {
      "cell_type": "code",
      "execution_count": null,
      "metadata": {
        "id": "ZMqumwZtxeer"
      },
      "outputs": [],
      "source": [
        "cat_columns = df.select_dtypes(['object']).columns"
      ]
    },
    {
      "cell_type": "code",
      "execution_count": null,
      "metadata": {
        "id": "R2OFMSxz3TZb"
      },
      "outputs": [],
      "source": [
        "df = pd.get_dummies(df,columns=cat_columns)"
      ]
    },
    {
      "attachments": {},
      "cell_type": "markdown",
      "metadata": {
        "id": "3pkZu-nr5zLU"
      },
      "source": [
        "### Create New Features"
      ]
    },
    {
      "attachments": {},
      "cell_type": "markdown",
      "metadata": {
        "id": "M_KiyBnZ56F6"
      },
      "source": [
        "#### KDA"
      ]
    },
    {
      "cell_type": "code",
      "execution_count": null,
      "metadata": {
        "id": "B_dIbZczfYFm"
      },
      "outputs": [],
      "source": [
        "df[\"deaths\"] = df[\"deaths\"].replace(0, 1)"
      ]
    },
    {
      "cell_type": "code",
      "execution_count": null,
      "metadata": {
        "id": "WC1oGdMhuzQd"
      },
      "outputs": [],
      "source": [
        "df[\"kda\"]=(df[\"kills\"]+df[\"assists\"])/df[\"deaths\"]"
      ]
    },
    {
      "attachments": {},
      "cell_type": "markdown",
      "metadata": {
        "id": "c6XKMY_u6I7f"
      },
      "source": [
        "#### Convert features into minutes"
      ]
    },
    {
      "cell_type": "code",
      "execution_count": null,
      "metadata": {
        "id": "_lEALRIr6nKD"
      },
      "outputs": [],
      "source": [
        "feature=[\"goldEarned\",\"totalDamageDealt\",\"totalMinionsKilled\",\"totalHeal\",\"champExperience\",\"damageDealtToObjectives\"]"
      ]
    },
    {
      "cell_type": "code",
      "execution_count": null,
      "metadata": {
        "colab": {
          "base_uri": "https://localhost:8080/",
          "height": 204
        },
        "id": "wa5JE0sd8zoz",
        "outputId": "54eb0c29-1268-416c-c5e9-ee112b7152b6"
      },
      "outputs": [],
      "source": [
        "df[feature].head()"
      ]
    },
    {
      "attachments": {},
      "cell_type": "markdown",
      "metadata": {
        "id": "1aMGI5HM_8Uj"
      },
      "source": [
        "#### Convert time from seconds to minutes"
      ]
    },
    {
      "cell_type": "code",
      "execution_count": null,
      "metadata": {
        "id": "A9ZilogE7wPJ"
      },
      "outputs": [],
      "source": [
        "df[\"timePlayed\"]=df[\"timePlayed\"]/60"
      ]
    },
    {
      "cell_type": "code",
      "execution_count": null,
      "metadata": {
        "id": "swSAIS8B8Hck"
      },
      "outputs": [],
      "source": [
        "df['timePlayed'] = df['timePlayed'].round(1)"
      ]
    },
    {
      "cell_type": "code",
      "execution_count": null,
      "metadata": {
        "id": "abGr6vd28g4g"
      },
      "outputs": [],
      "source": [
        "for i in feature:\n",
        "  df[i]=df[i]/df['timePlayed']"
      ]
    },
    {
      "attachments": {},
      "cell_type": "markdown",
      "metadata": {
        "id": "dkM-vdhb5Bs7"
      },
      "source": [
        "## Train, Validation, Test Set Split"
      ]
    },
    {
      "cell_type": "code",
      "execution_count": null,
      "metadata": {
        "id": "YU2tnO0oywXY"
      },
      "outputs": [],
      "source": [
        "X = df.drop([\"win\",\"kills\",\"deaths\",\"assists\"],axis=1)\n",
        "y = df['win']"
      ]
    },
    {
      "cell_type": "code",
      "execution_count": null,
      "metadata": {
        "id": "AcRtt2Pyy1jI"
      },
      "outputs": [],
      "source": [
        "from sklearn.model_selection import train_test_split\n",
        "from sklearn import metrics\n",
        "from sklearn.metrics import classification_report, confusion_matrix\n",
        "from sklearn.metrics import confusion_matrix\n",
        "X_train, X_test, y_train, y_test = train_test_split(X, y,train_size=0.80)"
      ]
    },
    {
      "attachments": {},
      "cell_type": "markdown",
      "metadata": {
        "id": "cLD7259TgT1m"
      },
      "source": [
        "## Logistic Regression"
      ]
    },
    {
      "cell_type": "code",
      "execution_count": null,
      "metadata": {
        "colab": {
          "base_uri": "https://localhost:8080/",
          "height": 74
        },
        "id": "iNhcUYX61r1W",
        "outputId": "5604ca04-e327-4691-8564-e5002fd83006"
      },
      "outputs": [],
      "source": [
        "from sklearn.linear_model import LogisticRegression\n",
        "logreg = LogisticRegression()\n",
        "logreg.fit(X_train, y_train)"
      ]
    },
    {
      "cell_type": "code",
      "execution_count": null,
      "metadata": {
        "id": "cno6cw7HRO1B"
      },
      "outputs": [],
      "source": [
        "y_pred=logreg.predict(X_test)"
      ]
    },
    {
      "cell_type": "code",
      "execution_count": null,
      "metadata": {
        "colab": {
          "base_uri": "https://localhost:8080/"
        },
        "id": "Fcbm-uwLRRUZ",
        "outputId": "ab4d19ff-ef04-4511-9409-ef95b96a5004"
      },
      "outputs": [],
      "source": [
        "print(classification_report(y_test, y_pred))"
      ]
    },
    {
      "cell_type": "code",
      "execution_count": null,
      "metadata": {
        "colab": {
          "base_uri": "https://localhost:8080/"
        },
        "id": "mEwSv7eOkr5h",
        "outputId": "cbf8d27f-a42c-4dba-de5a-3a6f3a37ec05"
      },
      "outputs": [],
      "source": [
        "metrics.accuracy_score(y_test, y_pred)"
      ]
    },
    {
      "cell_type": "code",
      "execution_count": null,
      "metadata": {
        "colab": {
          "base_uri": "https://localhost:8080/"
        },
        "id": "elCAjTaqkwCU",
        "outputId": "116a0920-cb3f-4b5e-f69b-4b462465784f"
      },
      "outputs": [],
      "source": [
        "y_pred_proba = logreg.predict_proba(X_test)[:, 1]\n",
        "metrics.roc_auc_score(y_test, y_pred_proba)"
      ]
    },
    {
      "cell_type": "code",
      "execution_count": null,
      "metadata": {
        "id": "xbUEHXvP7YXZ"
      },
      "outputs": [],
      "source": [
        "confusion_matrix = confusion_matrix(y_test, y_pred)"
      ]
    },
    {
      "cell_type": "code",
      "execution_count": null,
      "metadata": {
        "colab": {
          "base_uri": "https://localhost:8080/",
          "height": 447
        },
        "id": "19_Q5Rhl7aJ2",
        "outputId": "bc3375be-d56e-49cf-e0d2-f4e009f8d265"
      },
      "outputs": [],
      "source": [
        "sns.heatmap(confusion_matrix, annot=True, fmt=\"d\")"
      ]
    },
    {
      "attachments": {},
      "cell_type": "markdown",
      "metadata": {
        "id": "i3UADEWOgZL2"
      },
      "source": [
        "## Random Forest"
      ]
    },
    {
      "cell_type": "code",
      "execution_count": null,
      "metadata": {
        "colab": {
          "base_uri": "https://localhost:8080/",
          "height": 74
        },
        "id": "o9ddkR7gga5j",
        "outputId": "f8592430-8854-4bee-b82e-55f1035cad28"
      },
      "outputs": [],
      "source": [
        "from sklearn.ensemble import RandomForestClassifier\n",
        "rfc=RandomForestClassifier()\n",
        "rfc.fit(X_train, y_train)"
      ]
    },
    {
      "cell_type": "code",
      "execution_count": null,
      "metadata": {
        "colab": {
          "base_uri": "https://localhost:8080/"
        },
        "id": "fGkh7uXlgm2Z",
        "outputId": "5ccd9ac2-96ea-4eb1-9d91-96e51567b631"
      },
      "outputs": [],
      "source": [
        "y_pred=rfc.predict(X_test)\n",
        "print(classification_report(y_test, y_pred))"
      ]
    },
    {
      "cell_type": "code",
      "execution_count": null,
      "metadata": {
        "colab": {
          "base_uri": "https://localhost:8080/"
        },
        "id": "eCgvtRYApsOj",
        "outputId": "387b84c4-7ab7-4b55-9b02-0457060b2d63"
      },
      "outputs": [],
      "source": [
        "metrics.accuracy_score(y_test, y_pred)"
      ]
    },
    {
      "cell_type": "code",
      "execution_count": null,
      "metadata": {
        "colab": {
          "base_uri": "https://localhost:8080/"
        },
        "id": "Bw-PvZJ2lTp7",
        "outputId": "cb19c2e5-cfc7-4c75-82f5-8e63b63cf1d6"
      },
      "outputs": [],
      "source": [
        "y_pred_proba = rfc.predict_proba(X_test)[:, 1]\n",
        "metrics.roc_auc_score(y_test, y_pred_proba)"
      ]
    },
    {
      "cell_type": "code",
      "execution_count": null,
      "metadata": {
        "id": "BnK5MdLUpw5R"
      },
      "outputs": [],
      "source": [
        "confusion_matrix = confusion_matrix(y_test, y_pred)"
      ]
    },
    {
      "cell_type": "code",
      "execution_count": null,
      "metadata": {
        "colab": {
          "base_uri": "https://localhost:8080/",
          "height": 447
        },
        "id": "GYEpQvkLp2E7",
        "outputId": "7cdc6f71-3de3-43b5-f910-24bf8b4d82ed"
      },
      "outputs": [],
      "source": [
        "sns.heatmap(confusion_matrix, annot=True, fmt=\"d\")"
      ]
    },
    {
      "attachments": {},
      "cell_type": "markdown",
      "metadata": {
        "id": "7PRAsusqhWp0"
      },
      "source": [
        "## MLP"
      ]
    },
    {
      "cell_type": "code",
      "execution_count": null,
      "metadata": {
        "colab": {
          "base_uri": "https://localhost:8080/",
          "height": 74
        },
        "id": "2LVYRvJmhXoK",
        "outputId": "5feda9cd-3583-4710-e007-76a79ac5690f"
      },
      "outputs": [],
      "source": [
        "# importing modules\n",
        "from sklearn.neural_network import MLPClassifier\n",
        "mlp = MLPClassifier()\n",
        "mlp.fit(X_train, y_train)"
      ]
    },
    {
      "cell_type": "code",
      "execution_count": null,
      "metadata": {
        "colab": {
          "base_uri": "https://localhost:8080/"
        },
        "id": "DaEmwCi7inTf",
        "outputId": "65783020-8bb0-40d0-9332-3082472eb3a2"
      },
      "outputs": [],
      "source": [
        "y_pred=mlp.predict(X_test)\n",
        "print(classification_report(y_test, y_pred))"
      ]
    },
    {
      "cell_type": "code",
      "execution_count": null,
      "metadata": {
        "colab": {
          "base_uri": "https://localhost:8080/"
        },
        "id": "6PXWS_Axlao-",
        "outputId": "4619b6ff-fbb1-4448-9a2e-00f6996f9058"
      },
      "outputs": [],
      "source": [
        "y_pred_proba = mlp.predict_proba(X_test)[:, 1]\n",
        "metrics.roc_auc_score(y_test, y_pred_proba)"
      ]
    },
    {
      "attachments": {},
      "cell_type": "markdown",
      "metadata": {
        "id": "Eb1JCFTCDyru"
      },
      "source": [
        "## LGBM"
      ]
    },
    {
      "cell_type": "code",
      "execution_count": null,
      "metadata": {
        "id": "OnpP_s9UNs0r"
      },
      "outputs": [],
      "source": [
        "import lightgbm as lgb"
      ]
    },
    {
      "cell_type": "code",
      "execution_count": null,
      "metadata": {
        "id": "7fHYyPM-yVtm"
      },
      "outputs": [],
      "source": [
        "lgbm = lgb.LGBMClassifier()"
      ]
    },
    {
      "cell_type": "code",
      "execution_count": null,
      "metadata": {
        "colab": {
          "base_uri": "https://localhost:8080/",
          "height": 74
        },
        "id": "6C5mlEQAy-xY",
        "outputId": "8942f05d-1872-461a-d9c6-315b5bfd634b"
      },
      "outputs": [],
      "source": [
        "lgbm.fit(X_train, y_train)"
      ]
    },
    {
      "cell_type": "code",
      "execution_count": null,
      "metadata": {
        "id": "KKTqfNkCzGCG"
      },
      "outputs": [],
      "source": [
        "y_pred=lgbm.predict(X_test)"
      ]
    },
    {
      "attachments": {},
      "cell_type": "markdown",
      "metadata": {
        "id": "d043D4ZRNKj3"
      },
      "source": [
        "### Confusion Matrix"
      ]
    },
    {
      "cell_type": "code",
      "execution_count": null,
      "metadata": {
        "id": "mrKHn_4HNNe_"
      },
      "outputs": [],
      "source": [
        "confusion_matrix = confusion_matrix(y_test, y_pred)"
      ]
    },
    {
      "cell_type": "code",
      "execution_count": null,
      "metadata": {
        "colab": {
          "base_uri": "https://localhost:8080/",
          "height": 447
        },
        "id": "Xexqgw_bNbL9",
        "outputId": "a0d0fa8f-26db-49dc-e5cc-db25d1e69255"
      },
      "outputs": [],
      "source": [
        "sns.heatmap(confusion_matrix, annot=True, fmt=\"d\")"
      ]
    },
    {
      "attachments": {},
      "cell_type": "markdown",
      "metadata": {
        "id": "OtQBnSg2LRJ_"
      },
      "source": [
        "### classification report"
      ]
    },
    {
      "cell_type": "code",
      "execution_count": null,
      "metadata": {
        "colab": {
          "base_uri": "https://localhost:8080/"
        },
        "id": "JpQDzA4lzsz7",
        "outputId": "716a2d3e-f128-48b3-e439-032a703d4c07"
      },
      "outputs": [],
      "source": [
        "print(classification_report(y_test, y_pred))"
      ]
    },
    {
      "cell_type": "code",
      "execution_count": null,
      "metadata": {
        "colab": {
          "base_uri": "https://localhost:8080/"
        },
        "id": "PXgKx7pEz877",
        "outputId": "e15910cf-24e3-4763-af34-f44a6b6a7d83"
      },
      "outputs": [],
      "source": [
        "metrics.accuracy_score(y_test, y_pred)"
      ]
    },
    {
      "attachments": {},
      "cell_type": "markdown",
      "metadata": {
        "id": "E7b13TDoLU86"
      },
      "source": [
        "##### 5-Fold Cross Validation for train and test"
      ]
    },
    {
      "cell_type": "code",
      "execution_count": null,
      "metadata": {
        "colab": {
          "base_uri": "https://localhost:8080/"
        },
        "id": "3oR7-pOSILs2",
        "outputId": "91aa8a39-78d1-4337-e2ff-84d156c479d9"
      },
      "outputs": [],
      "source": [
        "from sklearn.model_selection import cross_val_score\n",
        "cv_train = cross_val_score(lgbm, X_train, y_train, cv=5,scoring=\"accuracy\")\n",
        "print('Cross validation scores for train:', cv_train.round(2))\n",
        "print('Average Cross validation scores for train:', np.average(cv_train).round(2))"
      ]
    },
    {
      "cell_type": "code",
      "execution_count": null,
      "metadata": {
        "colab": {
          "base_uri": "https://localhost:8080/"
        },
        "id": "GpCARswKJcN9",
        "outputId": "04bf73ca-544c-459c-d3fd-712cfd7c1e4d"
      },
      "outputs": [],
      "source": [
        "from sklearn.model_selection import cross_val_score\n",
        "cv_test = cross_val_score(lgbm, X_test, y_test, cv=5,scoring=\"accuracy\")\n",
        "print('Cross validation scores for test:', cv_test.round(2))\n",
        "print('Average Cross validation scores for test:', np.average(cv_test).round(2))"
      ]
    },
    {
      "attachments": {},
      "cell_type": "markdown",
      "metadata": {
        "id": "tRcXQRu0LV7F"
      },
      "source": [
        "### ROC_AUC"
      ]
    },
    {
      "attachments": {},
      "cell_type": "markdown",
      "metadata": {
        "id": "-vl4Dd7zLaVS"
      },
      "source": [
        "##### 5-Fold Cross Validation for train and test"
      ]
    },
    {
      "cell_type": "code",
      "execution_count": null,
      "metadata": {
        "colab": {
          "base_uri": "https://localhost:8080/"
        },
        "id": "bFTCvb_LKvyF",
        "outputId": "446b009a-b69a-432c-927a-e430786befda"
      },
      "outputs": [],
      "source": [
        "from sklearn.model_selection import cross_val_score\n",
        "cv_train = cross_val_score(lgbm, X_train, y_train, cv=5,scoring=\"roc_auc\")\n",
        "print('Cross validation scores for train:', cv_train.round(10))\n",
        "print('Average Cross validation scores for train:', np.average(cv_train).round(5))"
      ]
    },
    {
      "cell_type": "code",
      "execution_count": null,
      "metadata": {
        "colab": {
          "base_uri": "https://localhost:8080/"
        },
        "id": "patRaWA_KzPk",
        "outputId": "a299564f-667a-4a27-cf7a-7c6886f696c4"
      },
      "outputs": [],
      "source": [
        "from sklearn.model_selection import cross_val_score\n",
        "cv_test = cross_val_score(lgbm, X_test, y_test, cv=5,scoring=\"roc_auc\")\n",
        "print('Cross validation scores for test:', cv_test.round(5))\n",
        "print('Average Cross validation scores for test:', np.average(cv_test).round(5))"
      ]
    },
    {
      "cell_type": "code",
      "execution_count": null,
      "metadata": {
        "id": "wNt3MjPGReHy"
      },
      "outputs": [],
      "source": [
        "y_pred_proba = lgbm.predict_proba(X_test)[:, 1]"
      ]
    },
    {
      "cell_type": "code",
      "execution_count": null,
      "metadata": {
        "colab": {
          "base_uri": "https://localhost:8080/",
          "height": 449
        },
        "id": "tuipQslpLhLW",
        "outputId": "5edd00d2-dd45-4f41-a03b-76baf0792ee3"
      },
      "outputs": [],
      "source": [
        "from sklearn.metrics import roc_auc_score\n",
        "fpr, tpr, _ = metrics.roc_curve(y_test,  y_pred_proba)\n",
        "#create ROC curve\n",
        "auc = metrics.roc_auc_score(y_test, y_pred_proba)\n",
        "plt.plot(fpr,tpr,label=\"auc=\"+str(auc))\n",
        "plt.ylabel('True Positive Rate')\n",
        "plt.xlabel('False Positive Rate')\n",
        "plt.legend(loc=4)\n",
        "plt.show()\n",
        "     "
      ]
    },
    {
      "cell_type": "code",
      "execution_count": null,
      "metadata": {
        "colab": {
          "base_uri": "https://localhost:8080/"
        },
        "id": "LnxYMRWz01-5",
        "outputId": "eb9522d5-a186-4d50-ab3c-1b8767bca94a"
      },
      "outputs": [],
      "source": [
        "pip install shap --quiet"
      ]
    },
    {
      "cell_type": "code",
      "execution_count": null,
      "metadata": {
        "colab": {
          "base_uri": "https://localhost:8080/",
          "height": 957
        },
        "id": "JmVcuE-NVaI1",
        "outputId": "9646a4d8-b783-43ff-ca26-1b994e5fda76"
      },
      "outputs": [],
      "source": [
        "import shap\n",
        "explainer= shap.Explainer(lgbm)\n",
        "shap_values= explainer.shap_values(X_test)\n",
        "shap.summary_plot(shap_values[1],plot_type=\"bar\",feature_names=X_test.columns)"
      ]
    },
    {
      "cell_type": "code",
      "execution_count": null,
      "metadata": {
        "colab": {
          "base_uri": "https://localhost:8080/",
          "height": 957
        },
        "id": "LyJQ8CbJ_hEk",
        "outputId": "5c1543b5-dbc8-431f-9297-bf92c8ef324b"
      },
      "outputs": [],
      "source": [
        "shap.summary_plot(shap_values,X_test)"
      ]
    },
    {
      "attachments": {},
      "cell_type": "markdown",
      "metadata": {
        "id": "-N5XjyZl8Bj4"
      },
      "source": [
        "## Catboost"
      ]
    },
    {
      "attachments": {},
      "cell_type": "markdown",
      "metadata": {
        "id": "BrFAncQncYbV"
      },
      "source": [
        "### catboost"
      ]
    },
    {
      "cell_type": "code",
      "execution_count": null,
      "metadata": {
        "colab": {
          "base_uri": "https://localhost:8080/"
        },
        "id": "NMZNnLi2nNAa",
        "outputId": "b9cd9d79-f59f-4290-fa27-7e30a1d6a006"
      },
      "outputs": [],
      "source": [
        "pip install catboost --quiet"
      ]
    },
    {
      "cell_type": "code",
      "execution_count": null,
      "metadata": {
        "id": "7zyc1UQL8HfE"
      },
      "outputs": [],
      "source": [
        "import catboost\n",
        "cbt = catboost.CatBoostClassifier()"
      ]
    },
    {
      "cell_type": "code",
      "execution_count": null,
      "metadata": {
        "colab": {
          "base_uri": "https://localhost:8080/"
        },
        "id": "q4o_Ax-E8WZI",
        "outputId": "e0965e95-9d84-427f-aa29-a92bb494d6d7"
      },
      "outputs": [],
      "source": [
        "cbt.fit(X_train, y_train,verbose=False)"
      ]
    },
    {
      "cell_type": "code",
      "execution_count": null,
      "metadata": {
        "id": "sV-QeGB_8heo"
      },
      "outputs": [],
      "source": [
        "y_pred_cbt=cbt.predict(X_test)"
      ]
    },
    {
      "cell_type": "code",
      "execution_count": null,
      "metadata": {
        "colab": {
          "base_uri": "https://localhost:8080/"
        },
        "id": "uQQEqPzPBkpg",
        "outputId": "fce7288f-5e43-4f73-aaa3-4160ff69e44a"
      },
      "outputs": [],
      "source": [
        "print(classification_report(y_test, y_pred_cbt))"
      ]
    },
    {
      "cell_type": "code",
      "execution_count": null,
      "metadata": {
        "colab": {
          "base_uri": "https://localhost:8080/"
        },
        "id": "r_frA7T5BoNZ",
        "outputId": "84ed1576-f6c5-4747-84bd-c6b16d263c75"
      },
      "outputs": [],
      "source": [
        "metrics.accuracy_score(y_test, y_pred_cbt)"
      ]
    },
    {
      "cell_type": "code",
      "execution_count": null,
      "metadata": {
        "id": "uvuREQsg8x3s"
      },
      "outputs": [],
      "source": [
        "y_pred_proba = cbt.predict_proba(X_test)[:, 1]"
      ]
    },
    {
      "cell_type": "code",
      "execution_count": null,
      "metadata": {
        "colab": {
          "base_uri": "https://localhost:8080/"
        },
        "id": "z6yDFJWt8o4v",
        "outputId": "ebe01a5b-fd97-4703-9373-dda51c3eadd2"
      },
      "outputs": [],
      "source": [
        "metrics.roc_auc_score(y_test, y_pred_proba)"
      ]
    },
    {
      "cell_type": "code",
      "execution_count": null,
      "metadata": {
        "colab": {
          "base_uri": "https://localhost:8080/",
          "height": 957
        },
        "id": "J59BVkuGBvTC",
        "outputId": "63f25e44-9539-4ab4-832a-0801e1d49a99"
      },
      "outputs": [],
      "source": [
        "import shap\n",
        "explainer= shap.Explainer(cbt)\n",
        "shap_values= explainer.shap_values(X_test)\n",
        "shap.summary_plot(shap_values, X_test,plot_type=\"bar\")"
      ]
    },
    {
      "cell_type": "code",
      "execution_count": null,
      "metadata": {
        "colab": {
          "base_uri": "https://localhost:8080/",
          "height": 957
        },
        "id": "mfDw7fINBNK4",
        "outputId": "48ed7e3b-4a2d-417b-95ef-ea21f409438a"
      },
      "outputs": [],
      "source": [
        "shap.summary_plot(shap_values, X_test)"
      ]
    },
    {
      "cell_type": "code",
      "execution_count": null,
      "metadata": {
        "id": "HaoBHoghqkdh"
      },
      "outputs": [],
      "source": []
    },
    {
      "attachments": {},
      "cell_type": "markdown",
      "metadata": {
        "id": "XI_4rPtfqPSE"
      },
      "source": [
        "## save and retrain model with most important parameters"
      ]
    },
    {
      "cell_type": "code",
      "execution_count": null,
      "metadata": {
        "id": "JWqx_u4YqlRA"
      },
      "outputs": [],
      "source": [
        "import pickle"
      ]
    },
    {
      "cell_type": "code",
      "execution_count": null,
      "metadata": {
        "id": "mSVmzBdjqmET"
      },
      "outputs": [],
      "source": [
        "X = df[[\"turretsLost\",\"timePlayed\",\"goldEarned\",\"totalMinionsKilled\",\"inhibitorTakedowns\",\"inhibitorsLost\",\"turretTakedowns\",\"kda\",\"champExperience\",\"totalDamageDealt\",\"dragonKills\",\"damageDealtToBuildings\"]]\n",
        "y = df['win']"
      ]
    },
    {
      "cell_type": "code",
      "execution_count": null,
      "metadata": {
        "id": "cTS_UUK_rdMY"
      },
      "outputs": [],
      "source": [
        "from sklearn.model_selection import train_test_split\n",
        "from sklearn import metrics\n",
        "from sklearn.metrics import classification_report, confusion_matrix\n",
        "from sklearn.metrics import confusion_matrix\n",
        "X_train1, X_test1, y_train1, y_test1 = train_test_split(X, y,train_size=0.80)"
      ]
    },
    {
      "cell_type": "code",
      "execution_count": null,
      "metadata": {
        "id": "09sicTvhXAJ4"
      },
      "outputs": [],
      "source": [
        "pip install catboost --quiet"
      ]
    },
    {
      "cell_type": "code",
      "execution_count": null,
      "metadata": {
        "colab": {
          "base_uri": "https://localhost:8080/"
        },
        "id": "uZMXScnarnBJ",
        "outputId": "1b117c62-8815-4fbc-8bf0-f8a6ca2d8bd6"
      },
      "outputs": [],
      "source": [
        "import catboost \n",
        "cbt = catboost.CatBoostClassifier()\n",
        "cbt.fit(X_train1, y_train1,verbose=False)"
      ]
    },
    {
      "cell_type": "code",
      "execution_count": null,
      "metadata": {
        "id": "C-wCu2JVrr-T"
      },
      "outputs": [],
      "source": [
        "y_pred=cbt.predict(X_test1)"
      ]
    },
    {
      "cell_type": "code",
      "execution_count": null,
      "metadata": {
        "colab": {
          "base_uri": "https://localhost:8080/"
        },
        "id": "VRieJtaRrxNt",
        "outputId": "bdb8ac73-2757-40a6-cc85-cdb3c76016ba"
      },
      "outputs": [],
      "source": [
        "print(classification_report(y_test1, y_pred))"
      ]
    }
  ],
  "metadata": {
    "colab": {
      "provenance": [],
      "toc_visible": true
    },
    "kernelspec": {
      "display_name": "Python 3",
      "name": "python3"
    },
    "language_info": {
      "name": "python"
    }
  },
  "nbformat": 4,
  "nbformat_minor": 0
}
