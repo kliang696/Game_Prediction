{
  "cells": [
    {
      "cell_type": "code",
      "execution_count": null,
      "metadata": {
        "id": "5sCC5RF-zHf4"
      },
      "outputs": [],
      "source": [
        "import requests"
      ]
    },
    {
      "cell_type": "code",
      "execution_count": null,
      "metadata": {
        "id": "PwK3TVUXn0Ua"
      },
      "outputs": [],
      "source": [
        "my_key=\"RGAPI-3cb6bf63-086f-47d8-9f48-34853a8e8291\""
      ]
    },
    {
      "cell_type": "code",
      "execution_count": null,
      "metadata": {
        "id": "zUIjA54n3bEy"
      },
      "outputs": [],
      "source": [
        "import pandas as pd"
      ]
    },
    {
      "attachments": {},
      "cell_type": "markdown",
      "metadata": {
        "id": "G2qrVFTd4z6e"
      },
      "source": [
        "###Use Beautiful Soup to get Best Player ID"
      ]
    },
    {
      "cell_type": "code",
      "execution_count": null,
      "metadata": {
        "colab": {
          "base_uri": "https://localhost:8080/"
        },
        "id": "sGiNerokuV5b",
        "outputId": "699207cf-cf1d-45d0-a203-5a25f9b303b1"
      },
      "outputs": [],
      "source": [
        "import requests\n",
        "from bs4 import BeautifulSoup\n",
        "\n",
        "# Define the URLs\n",
        "urls = [\n",
        "    \"https://lolprofile.net/leaderboards/na/0\",\n",
        "    \"https://lolprofile.net/leaderboards/na/1\",\n",
        "    \"https://lolprofile.net/leaderboards/na/2\",\n",
        "    \"https://lolprofile.net/leaderboards/na/3\",\n",
        "    \"https://lolprofile.net/leaderboards/na/4\",\n",
        "    \"https://lolprofile.net/leaderboards/na/5\"\n",
        "]\n",
        "\n",
        "# Create an empty list to store all span elements\n",
        "text_contents = [] \n",
        "\n",
        "# Iterate over the URLs\n",
        "for url in urls:\n",
        "    # Make the request and parse the HTML\n",
        "    response = requests.get(url)\n",
        "    soup = BeautifulSoup(response.text, \"html.parser\")\n",
        "    \n",
        "    # Extract the desired elements using BeautifulSoup selectors\n",
        "    span_elements = soup.select('tbody tr td:not([class]) span')\n",
        "    \n",
        "    # Add the span elements to the combined list\n",
        "    text_contents.extend(span.text for span in span_elements)\n",
        "\n",
        "# Iterate over the combined list of span elements and print their contents\n",
        "\n",
        "print(text_contents)\n",
        "\n",
        "\n"
      ]
    },
    {
      "cell_type": "code",
      "execution_count": null,
      "metadata": {
        "colab": {
          "base_uri": "https://localhost:8080/"
        },
        "id": "Bdj0uSOnSEMN",
        "outputId": "96fbc62d-ee1f-4ada-e1f0-2c55912eb6fa"
      },
      "outputs": [],
      "source": [
        "len(text_contents)"
      ]
    },
    {
      "cell_type": "code",
      "execution_count": null,
      "metadata": {
        "colab": {
          "base_uri": "https://localhost:8080/"
        },
        "id": "7fpgylipSG50",
        "outputId": "24dcfc9c-2a66-438c-c2e5-072cf3585816"
      },
      "outputs": [],
      "source": [
        "len(set(text_contents))"
      ]
    },
    {
      "cell_type": "code",
      "execution_count": null,
      "metadata": {
        "id": "UFefQpfNSYCx"
      },
      "outputs": [],
      "source": [
        "id = list(set(text_contents))"
      ]
    },
    {
      "cell_type": "code",
      "execution_count": null,
      "metadata": {
        "colab": {
          "base_uri": "https://localhost:8080/"
        },
        "id": "G57fBDHfU4Mu",
        "outputId": "04f8a9d5-88ba-4e93-b6d4-e825b02d5032"
      },
      "outputs": [],
      "source": [
        "id"
      ]
    },
    {
      "cell_type": "code",
      "execution_count": null,
      "metadata": {
        "colab": {
          "base_uri": "https://localhost:8080/"
        },
        "id": "k6l0WHNOVeqY",
        "outputId": "65995bd7-a6bd-4a70-b0b8-5c7cd59dabdd"
      },
      "outputs": [],
      "source": [
        "len(id)"
      ]
    },
    {
      "attachments": {},
      "cell_type": "markdown",
      "metadata": {
        "id": "DKNk4yMZ3yVw"
      },
      "source": [
        "## Use Player ID to get PUUID"
      ]
    },
    {
      "cell_type": "code",
      "execution_count": null,
      "metadata": {
        "id": "i-XpjssPnclc"
      },
      "outputs": [],
      "source": [
        "def get_puuid(my_key,id):\n",
        "   puuid_list=[]\n",
        "   for i in range(len(id)):\n",
        "     try:\n",
        "      summoner_url = \"https://na1.api.riotgames.com/lol/summoner/v4/summoners/by-name/\" + str(id[i]) + '?api_key=' + my_key\n",
        "      get_player_info = requests.get(summoner_url).json()\n",
        "      puuid = get_player_info['puuid']\n",
        "      puuid_list.append(puuid)\n",
        "     except KeyError:\n",
        "      continue\n",
        "\n",
        "   return puuid_list\n",
        "     "
      ]
    },
    {
      "cell_type": "code",
      "execution_count": null,
      "metadata": {
        "id": "RQH2HYN0y32H"
      },
      "outputs": [],
      "source": [
        "puuid=get_puuid(my_key,id)"
      ]
    },
    {
      "cell_type": "code",
      "execution_count": null,
      "metadata": {
        "colab": {
          "base_uri": "https://localhost:8080/"
        },
        "id": "59R83RpKWhRk",
        "outputId": "659d644c-a29f-4db0-b000-e2bdc44bd27b"
      },
      "outputs": [],
      "source": [
        "len(puuid)"
      ]
    },
    {
      "cell_type": "code",
      "execution_count": null,
      "metadata": {
        "colab": {
          "base_uri": "https://localhost:8080/"
        },
        "id": "ZLg8TaFJWrqY",
        "outputId": "da3f9007-536a-4161-94d5-239820b5ed80"
      },
      "outputs": [],
      "source": [
        "puuid"
      ]
    },
    {
      "attachments": {},
      "cell_type": "markdown",
      "metadata": {
        "id": "BkKkq-w5VV-_"
      },
      "source": [
        "## Use PUUID to get Match Id"
      ]
    },
    {
      "cell_type": "code",
      "execution_count": null,
      "metadata": {
        "id": "pDXbL6DgyR7I"
      },
      "outputs": [],
      "source": [
        "def get_match_id(puuid):\n",
        "    match_id_list=[]\n",
        "    for i in range(len(puuid)):\n",
        "      get_match= \"https://americas.api.riotgames.com/lol/match/v5/matches/by-puuid/\" +str(puuid[i])+ \"/ids?type=ranked&start=0&count=3\" + '&api_key=' + my_key\n",
        "      match_info = requests.get(get_match).json()\n",
        "      match_id_list.append(match_info)\n",
        "\n",
        "    return match_id_list"
      ]
    },
    {
      "cell_type": "code",
      "execution_count": null,
      "metadata": {
        "id": "yiR4ooaXre-T"
      },
      "outputs": [],
      "source": [
        "match_id=get_match_id(puuid)"
      ]
    },
    {
      "cell_type": "code",
      "execution_count": null,
      "metadata": {
        "colab": {
          "base_uri": "https://localhost:8080/"
        },
        "id": "nIYteIT_2FNV",
        "outputId": "ffc4a4ca-0e83-4d41-a8e1-b15f5d8d7bf1"
      },
      "outputs": [],
      "source": [
        "len(match_id)"
      ]
    },
    {
      "cell_type": "code",
      "execution_count": null,
      "metadata": {
        "colab": {
          "base_uri": "https://localhost:8080/"
        },
        "id": "FiJWrPCPXjkF",
        "outputId": "d908a3a2-c4e7-40c5-c4e2-3a34bd4da059"
      },
      "outputs": [],
      "source": [
        "match_id"
      ]
    },
    {
      "cell_type": "code",
      "execution_count": null,
      "metadata": {
        "colab": {
          "base_uri": "https://localhost:8080/"
        },
        "id": "04Y30JsV5GHb",
        "outputId": "02627fd2-33cf-4175-c143-6e5afa94fd24"
      },
      "outputs": [],
      "source": [
        "combined_match_id=[]\n",
        "for i in match_id:\n",
        "    combined_match_id += i\n",
        "len(combined_match_id)"
      ]
    },
    {
      "attachments": {},
      "cell_type": "markdown",
      "metadata": {
        "id": "dFBxrWeoVeTI"
      },
      "source": [
        "## Remove Duplicate in match_id in case they are in the same game"
      ]
    },
    {
      "cell_type": "code",
      "execution_count": null,
      "metadata": {
        "id": "n9KMmveK5lMf"
      },
      "outputs": [],
      "source": [
        "final_combined_match_id = list(set(combined_match_id))"
      ]
    },
    {
      "cell_type": "code",
      "execution_count": null,
      "metadata": {
        "colab": {
          "base_uri": "https://localhost:8080/"
        },
        "id": "uves94HN7CC1",
        "outputId": "7b29d1b7-abb1-456e-b998-3261306005ed"
      },
      "outputs": [],
      "source": [
        "len(final_combined_match_id)"
      ]
    },
    {
      "attachments": {},
      "cell_type": "markdown",
      "metadata": {
        "id": "c4OoJuZsVksG"
      },
      "source": [
        "## Get match info with match-id"
      ]
    },
    {
      "cell_type": "code",
      "execution_count": null,
      "metadata": {
        "id": "JUEqG-kuvOiJ"
      },
      "outputs": [],
      "source": [
        "def get_game_info(final_combined_match_id):\n",
        "  mydf_list=[]\n",
        "  for i in final_combined_match_id[:10]:\n",
        "    get_in_game_info_=\"https://americas.api.riotgames.com/lol/match/v5/matches/\" +str(i)+ '?api_key=' + my_key \n",
        "    In_game_info = requests.get(get_in_game_info_).json()\n",
        "    In_game_info=In_game_info[\"info\"][\"participants\"] \n",
        "    mydf_list.append(pd.DataFrame.from_dict(In_game_info))\n",
        "  df1=pd.concat(mydf_list)\n",
        "  return df1\n"
      ]
    },
    {
      "cell_type": "code",
      "execution_count": null,
      "metadata": {
        "id": "ruZyUNkpZHNk"
      },
      "outputs": [],
      "source": [
        "list1=get_game_info(final_combined_match_id)\n",
        "    "
      ]
    },
    {
      "cell_type": "code",
      "execution_count": null,
      "metadata": {
        "colab": {
          "base_uri": "https://localhost:8080/"
        },
        "id": "4hjezDe_eySt",
        "outputId": "aa3ba1c7-4023-483c-e274-9a65f09ee165"
      },
      "outputs": [],
      "source": [
        "list1.shape"
      ]
    },
    {
      "cell_type": "code",
      "execution_count": null,
      "metadata": {
        "colab": {
          "base_uri": "https://localhost:8080/",
          "height": 382
        },
        "id": "g9PAglCGe3wY",
        "outputId": "391c72b2-e624-4c04-8c46-ffd87e42c0d3"
      },
      "outputs": [],
      "source": [
        "list1.head()"
      ]
    }
  ],
  "metadata": {
    "colab": {
      "provenance": [],
      "toc_visible": true
    },
    "kernelspec": {
      "display_name": "Python 3",
      "name": "python3"
    },
    "language_info": {
      "name": "python"
    }
  },
  "nbformat": 4,
  "nbformat_minor": 0
}
