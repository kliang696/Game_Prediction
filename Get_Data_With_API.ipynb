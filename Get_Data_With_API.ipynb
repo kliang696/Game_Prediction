{
  "nbformat": 4,
  "nbformat_minor": 0,
  "metadata": {
    "colab": {
      "provenance": [],
      "toc_visible": true
    },
    "kernelspec": {
      "name": "python3",
      "display_name": "Python 3"
    },
    "language_info": {
      "name": "python"
    }
  },
  "cells": [
    {
      "cell_type": "code",
      "source": [
        "import requests"
      ],
      "metadata": {
        "id": "5sCC5RF-zHf4"
      },
      "execution_count": null,
      "outputs": []
    },
    {
      "cell_type": "code",
      "source": [
        "my_key=\"RGAPI-47e1a46f-d531-4b14-ba3e-ae40074b0c42\""
      ],
      "metadata": {
        "id": "PwK3TVUXn0Ua"
      },
      "execution_count": null,
      "outputs": []
    },
    {
      "cell_type": "code",
      "source": [
        "import pandas as pd"
      ],
      "metadata": {
        "id": "zUIjA54n3bEy"
      },
      "execution_count": null,
      "outputs": []
    },
    {
      "cell_type": "markdown",
      "source": [
        "### Get Tier Information"
      ],
      "metadata": {
        "id": "GMlHpo5BU3s1"
      }
    },
    {
      "cell_type": "code",
      "source": [
        "sid=pd.read_csv(\"/content/summoner_id.csv\")"
      ],
      "metadata": {
        "id": "HDE1JDTL3cvB"
      },
      "execution_count": null,
      "outputs": []
    },
    {
      "cell_type": "code",
      "source": [
        "sid.head()"
      ],
      "metadata": {
        "colab": {
          "base_uri": "https://localhost:8080/",
          "height": 204
        },
        "id": "YZgUMRaz3mtV",
        "outputId": "26872adb-8461-44ce-e297-3c99c23a6b13"
      },
      "execution_count": null,
      "outputs": [
        {
          "output_type": "execute_result",
          "data": {
            "text/plain": [
              "  summonerName                                        summonerId\n",
              "0          Fli   6mCBeB8PNMnaIL5AUuVb_ZnSUYnlJNRc8nRsey7D5CwFqeo\n",
              "1          Lcy   yCq_uSUHRYQ8uL0HD2ae_-_oRvG3sspofvzvnYAt5aHdnUg\n",
              "2          rbm   T9D7Chm42Og6vn-UqRHqyXOi7vDpksI4a4GZ5pN4yHqGb70\n",
              "3          vnz  pC9fack4kyJDBQCe3IJibSqEf814k0ox4DJQ9kiqv5hyZcv5\n",
              "4         dard   xSSIADrFGtLteCIm6WZIFE7a7f3dbNzTVwVyIhC2q0RGaQ8"
            ],
            "text/html": [
              "\n",
              "  <div id=\"df-1baf2eb1-1bfc-432f-a118-ee52f8d4a31a\">\n",
              "    <div class=\"colab-df-container\">\n",
              "      <div>\n",
              "<style scoped>\n",
              "    .dataframe tbody tr th:only-of-type {\n",
              "        vertical-align: middle;\n",
              "    }\n",
              "\n",
              "    .dataframe tbody tr th {\n",
              "        vertical-align: top;\n",
              "    }\n",
              "\n",
              "    .dataframe thead th {\n",
              "        text-align: right;\n",
              "    }\n",
              "</style>\n",
              "<table border=\"1\" class=\"dataframe\">\n",
              "  <thead>\n",
              "    <tr style=\"text-align: right;\">\n",
              "      <th></th>\n",
              "      <th>summonerName</th>\n",
              "      <th>summonerId</th>\n",
              "    </tr>\n",
              "  </thead>\n",
              "  <tbody>\n",
              "    <tr>\n",
              "      <th>0</th>\n",
              "      <td>Fli</td>\n",
              "      <td>6mCBeB8PNMnaIL5AUuVb_ZnSUYnlJNRc8nRsey7D5CwFqeo</td>\n",
              "    </tr>\n",
              "    <tr>\n",
              "      <th>1</th>\n",
              "      <td>Lcy</td>\n",
              "      <td>yCq_uSUHRYQ8uL0HD2ae_-_oRvG3sspofvzvnYAt5aHdnUg</td>\n",
              "    </tr>\n",
              "    <tr>\n",
              "      <th>2</th>\n",
              "      <td>rbm</td>\n",
              "      <td>T9D7Chm42Og6vn-UqRHqyXOi7vDpksI4a4GZ5pN4yHqGb70</td>\n",
              "    </tr>\n",
              "    <tr>\n",
              "      <th>3</th>\n",
              "      <td>vnz</td>\n",
              "      <td>pC9fack4kyJDBQCe3IJibSqEf814k0ox4DJQ9kiqv5hyZcv5</td>\n",
              "    </tr>\n",
              "    <tr>\n",
              "      <th>4</th>\n",
              "      <td>dard</td>\n",
              "      <td>xSSIADrFGtLteCIm6WZIFE7a7f3dbNzTVwVyIhC2q0RGaQ8</td>\n",
              "    </tr>\n",
              "  </tbody>\n",
              "</table>\n",
              "</div>\n",
              "      <button class=\"colab-df-convert\" onclick=\"convertToInteractive('df-1baf2eb1-1bfc-432f-a118-ee52f8d4a31a')\"\n",
              "              title=\"Convert this dataframe to an interactive table.\"\n",
              "              style=\"display:none;\">\n",
              "        \n",
              "  <svg xmlns=\"http://www.w3.org/2000/svg\" height=\"24px\"viewBox=\"0 0 24 24\"\n",
              "       width=\"24px\">\n",
              "    <path d=\"M0 0h24v24H0V0z\" fill=\"none\"/>\n",
              "    <path d=\"M18.56 5.44l.94 2.06.94-2.06 2.06-.94-2.06-.94-.94-2.06-.94 2.06-2.06.94zm-11 1L8.5 8.5l.94-2.06 2.06-.94-2.06-.94L8.5 2.5l-.94 2.06-2.06.94zm10 10l.94 2.06.94-2.06 2.06-.94-2.06-.94-.94-2.06-.94 2.06-2.06.94z\"/><path d=\"M17.41 7.96l-1.37-1.37c-.4-.4-.92-.59-1.43-.59-.52 0-1.04.2-1.43.59L10.3 9.45l-7.72 7.72c-.78.78-.78 2.05 0 2.83L4 21.41c.39.39.9.59 1.41.59.51 0 1.02-.2 1.41-.59l7.78-7.78 2.81-2.81c.8-.78.8-2.07 0-2.86zM5.41 20L4 18.59l7.72-7.72 1.47 1.35L5.41 20z\"/>\n",
              "  </svg>\n",
              "      </button>\n",
              "      \n",
              "  <style>\n",
              "    .colab-df-container {\n",
              "      display:flex;\n",
              "      flex-wrap:wrap;\n",
              "      gap: 12px;\n",
              "    }\n",
              "\n",
              "    .colab-df-convert {\n",
              "      background-color: #E8F0FE;\n",
              "      border: none;\n",
              "      border-radius: 50%;\n",
              "      cursor: pointer;\n",
              "      display: none;\n",
              "      fill: #1967D2;\n",
              "      height: 32px;\n",
              "      padding: 0 0 0 0;\n",
              "      width: 32px;\n",
              "    }\n",
              "\n",
              "    .colab-df-convert:hover {\n",
              "      background-color: #E2EBFA;\n",
              "      box-shadow: 0px 1px 2px rgba(60, 64, 67, 0.3), 0px 1px 3px 1px rgba(60, 64, 67, 0.15);\n",
              "      fill: #174EA6;\n",
              "    }\n",
              "\n",
              "    [theme=dark] .colab-df-convert {\n",
              "      background-color: #3B4455;\n",
              "      fill: #D2E3FC;\n",
              "    }\n",
              "\n",
              "    [theme=dark] .colab-df-convert:hover {\n",
              "      background-color: #434B5C;\n",
              "      box-shadow: 0px 1px 3px 1px rgba(0, 0, 0, 0.15);\n",
              "      filter: drop-shadow(0px 1px 2px rgba(0, 0, 0, 0.3));\n",
              "      fill: #FFFFFF;\n",
              "    }\n",
              "  </style>\n",
              "\n",
              "      <script>\n",
              "        const buttonEl =\n",
              "          document.querySelector('#df-1baf2eb1-1bfc-432f-a118-ee52f8d4a31a button.colab-df-convert');\n",
              "        buttonEl.style.display =\n",
              "          google.colab.kernel.accessAllowed ? 'block' : 'none';\n",
              "\n",
              "        async function convertToInteractive(key) {\n",
              "          const element = document.querySelector('#df-1baf2eb1-1bfc-432f-a118-ee52f8d4a31a');\n",
              "          const dataTable =\n",
              "            await google.colab.kernel.invokeFunction('convertToInteractive',\n",
              "                                                     [key], {});\n",
              "          if (!dataTable) return;\n",
              "\n",
              "          const docLinkHtml = 'Like what you see? Visit the ' +\n",
              "            '<a target=\"_blank\" href=https://colab.research.google.com/notebooks/data_table.ipynb>data table notebook</a>'\n",
              "            + ' to learn more about interactive tables.';\n",
              "          element.innerHTML = '';\n",
              "          dataTable['output_type'] = 'display_data';\n",
              "          await google.colab.output.renderOutput(dataTable, element);\n",
              "          const docLink = document.createElement('div');\n",
              "          docLink.innerHTML = docLinkHtml;\n",
              "          element.appendChild(docLink);\n",
              "        }\n",
              "      </script>\n",
              "    </div>\n",
              "  </div>\n",
              "  "
            ]
          },
          "metadata": {},
          "execution_count": 17
        }
      ]
    },
    {
      "cell_type": "code",
      "source": [
        "lp_url=\"https://na1.api.riotgames.com/lol/league/v4/entries/by-summoner/xSSIADrFGtLteCIm6WZIFE7a7f3dbNzTVwVyIhC2q0RGaQ8?api_key=RGAPI-47e1a46f-d531-4b14-ba3e-ae40074b0c42\""
      ],
      "metadata": {
        "id": "CWUxtw6T4L1i"
      },
      "execution_count": null,
      "outputs": []
    },
    {
      "cell_type": "code",
      "source": [
        "a=requests.get(lp_url).json()"
      ],
      "metadata": {
        "id": "jfZ0dcV647XP"
      },
      "execution_count": null,
      "outputs": []
    },
    {
      "cell_type": "code",
      "source": [
        "a[0][\"leaguePoints\"]"
      ],
      "metadata": {
        "colab": {
          "base_uri": "https://localhost:8080/"
        },
        "id": "5gv0qAsE4-sY",
        "outputId": "2260f7c8-5b15-42b3-9864-47161ff17e1d"
      },
      "execution_count": null,
      "outputs": [
        {
          "output_type": "execute_result",
          "data": {
            "text/plain": [
              "690"
            ]
          },
          "metadata": {},
          "execution_count": 54
        }
      ]
    },
    {
      "cell_type": "code",
      "source": [
        "len(sid['summonerId'])"
      ],
      "metadata": {
        "colab": {
          "base_uri": "https://localhost:8080/"
        },
        "id": "c0Tg6nW_-J2V",
        "outputId": "e47630e5-e7fd-44df-d889-75c5dac90630"
      },
      "execution_count": null,
      "outputs": [
        {
          "output_type": "execute_result",
          "data": {
            "text/plain": [
              "2681"
            ]
          },
          "metadata": {},
          "execution_count": 35
        }
      ]
    },
    {
      "cell_type": "code",
      "source": [
        "sid['summonerId'].head(3)"
      ],
      "metadata": {
        "colab": {
          "base_uri": "https://localhost:8080/"
        },
        "id": "vv8OGTlM-Yes",
        "outputId": "f7635837-e393-4c32-a578-d5e2db2af74c"
      },
      "execution_count": null,
      "outputs": [
        {
          "output_type": "execute_result",
          "data": {
            "text/plain": [
              "0    6mCBeB8PNMnaIL5AUuVb_ZnSUYnlJNRc8nRsey7D5CwFqeo\n",
              "1    yCq_uSUHRYQ8uL0HD2ae_-_oRvG3sspofvzvnYAt5aHdnUg\n",
              "2    T9D7Chm42Og6vn-UqRHqyXOi7vDpksI4a4GZ5pN4yHqGb70\n",
              "Name: summonerId, dtype: object"
            ]
          },
          "metadata": {},
          "execution_count": 38
        }
      ]
    },
    {
      "cell_type": "code",
      "source": [
        "len(sid['summonerId'])"
      ],
      "metadata": {
        "colab": {
          "base_uri": "https://localhost:8080/"
        },
        "id": "dj2mIXr0PNlJ",
        "outputId": "c5367852-a55d-4a86-f0b7-af3a4e7f006b"
      },
      "execution_count": null,
      "outputs": [
        {
          "output_type": "execute_result",
          "data": {
            "text/plain": [
              "500"
            ]
          },
          "metadata": {},
          "execution_count": 58
        }
      ]
    },
    {
      "cell_type": "code",
      "source": [
        "summonerId_list = sid['summonerId'].tolist()"
      ],
      "metadata": {
        "id": "MdkUPXTttsn6"
      },
      "execution_count": null,
      "outputs": []
    },
    {
      "cell_type": "code",
      "source": [
        "summonerId_list1=summonerId_list[0:100]\n",
        "summonerId_list2=summonerId_list[200:300]\n",
        "summonerId_list3=summonerId_list[300:400]\n",
        "summonerId_list4=summonerId_list[400:500]\n",
        "summonerId_list5=summonerId_list[500:600]\n",
        "summonerId_list6=summonerId_list[600:7000]\n",
        "summonerId_list7=summonerId_list[700:800]\n",
        "summonerId_list8=summonerId_list[800:900]\n",
        "summonerId_list9=summonerId_list[900:1000]\n",
        "summonerId_list10=summonerId_list[1000:1100]\n",
        "summonerId_list11=summonerId_list[1100:1200]\n",
        "summonerId_list12=summonerId_list[1200:1300]\n",
        "summonerId_list13=summonerId_list[1300:1400]\n",
        "summonerId_list14=summonerId_list[1400:1500]\n",
        "summonerId_list15=summonerId_list[1500:1600]\n",
        "summonerId_list16=summonerId_list[1600:1700]\n",
        "summonerId_list17=summonerId_list[1700:1800]\n",
        "summonerId_list18=summonerId_list[1800:1900]\n",
        "summonerId_list19=summonerId_list[1900:2000]\n",
        "summonerId_list20=summonerId_list[2000:2100]\n",
        "summonerId_list21=summonerId_list[2100:2200]\n",
        "summonerId_list22=summonerId_list[2200:2300]\n",
        "summonerId_list23=summonerId_list[2300:2400]\n",
        "summonerId_list24=summonerId_list[2400:2500]\n",
        "summonerId_list25=summonerId_list[2500:2600]\n",
        "summonerId_list26=summonerId_list[2600:]\n",
        "big_list=[summonerId_list1,summonerId_list2,summonerId_list3,summonerId_list4,summonerId_list5,summonerId_list6,summonerId_list7,summonerId_list8,summonerId_list9,summonerId_list10,\n",
        "          summonerId_list11,summonerId_list12,summonerId_list13,summonerId_list14,summonerId_list15,summonerId_list16,summonerId_list17,summonerId_list18,summonerId_list19,summonerId_list20,summonerId_list21,summonerId_list22,summonerId_list23,summonerId_list24,summonerId_list25,summonerId_list26]"
      ],
      "metadata": {
        "id": "3bRe5QfbumFp"
      },
      "execution_count": null,
      "outputs": []
    },
    {
      "cell_type": "code",
      "source": [
        "len(big_list)"
      ],
      "metadata": {
        "colab": {
          "base_uri": "https://localhost:8080/"
        },
        "id": "fziyfiaS0-5X",
        "outputId": "6f7dd988-13f0-42e9-fd3e-9f015847de6b"
      },
      "execution_count": null,
      "outputs": [
        {
          "output_type": "execute_result",
          "data": {
            "text/plain": [
              "26"
            ]
          },
          "metadata": {},
          "execution_count": 130
        }
      ]
    },
    {
      "cell_type": "code",
      "source": [
        "big_list[0][0]"
      ],
      "metadata": {
        "colab": {
          "base_uri": "https://localhost:8080/",
          "height": 38
        },
        "id": "uD8pTIb41Iu5",
        "outputId": "f6d129ff-9898-496a-d6ab-22201fb3ce3c"
      },
      "execution_count": null,
      "outputs": [
        {
          "output_type": "execute_result",
          "data": {
            "text/plain": [
              "'6mCBeB8PNMnaIL5AUuVb_ZnSUYnlJNRc8nRsey7D5CwFqeo'"
            ],
            "application/vnd.google.colaboratory.intrinsic+json": {
              "type": "string"
            }
          },
          "metadata": {},
          "execution_count": 132
        }
      ]
    },
    {
      "cell_type": "code",
      "source": [
        "li=[]\n",
        "my_key=\"RGAPI-47e1a46f-d531-4b14-ba3e-ae40074b0c42\"\n",
        "for j in big_list:\n",
        "  for i in j:\n",
        "        summoner_url = \"https://na1.api.riotgames.com/lol/league/v4/entries/by-summoner/\" + i + '?api_key=' + my_key\n",
        "        get_player_info = requests.get(summoner_url).json()\n",
        "        li.append(get_player_info)\n",
        "  time.sleep(120)\n"
      ],
      "metadata": {
        "id": "Hk9tFyg6wC7Y"
      },
      "execution_count": null,
      "outputs": []
    },
    {
      "cell_type": "code",
      "source": [
        "li[1][0][\"summonerId\"]"
      ],
      "metadata": {
        "colab": {
          "base_uri": "https://localhost:8080/",
          "height": 38
        },
        "id": "1v4qRaqoRkSb",
        "outputId": "df210bd9-cdec-4ee1-a30d-26be486ab3df"
      },
      "execution_count": null,
      "outputs": [
        {
          "output_type": "execute_result",
          "data": {
            "text/plain": [
              "'yCq_uSUHRYQ8uL0HD2ae_-_oRvG3sspofvzvnYAt5aHdnUg'"
            ],
            "application/vnd.google.colaboratory.intrinsic+json": {
              "type": "string"
            }
          },
          "metadata": {},
          "execution_count": 156
        }
      ]
    },
    {
      "cell_type": "code",
      "source": [
        "new_li = []\n",
        "for i in li:\n",
        "     if 'status' not in i:\n",
        "        new_li.append(i)"
      ],
      "metadata": {
        "id": "oYT5jYwMTsXk"
      },
      "execution_count": null,
      "outputs": []
    },
    {
      "cell_type": "code",
      "source": [
        "len(new_li)"
      ],
      "metadata": {
        "colab": {
          "base_uri": "https://localhost:8080/"
        },
        "id": "AzgTvcyCUpdG",
        "outputId": "402203d1-dc0d-4eba-eb33-2624f812b0a9"
      },
      "execution_count": null,
      "outputs": [
        {
          "output_type": "execute_result",
          "data": {
            "text/plain": [
              "3581"
            ]
          },
          "metadata": {},
          "execution_count": 161
        }
      ]
    },
    {
      "cell_type": "code",
      "source": [
        "new_li[0][1]"
      ],
      "metadata": {
        "colab": {
          "base_uri": "https://localhost:8080/"
        },
        "id": "n1edS3E4Uv6y",
        "outputId": "44c188b6-a52e-4517-ccac-03afd9966258"
      },
      "execution_count": null,
      "outputs": [
        {
          "output_type": "execute_result",
          "data": {
            "text/plain": [
              "{'leagueId': '64de6776-701d-3731-9884-9f22c07f5e6b',\n",
              " 'queueType': 'RANKED_SOLO_5x5',\n",
              " 'tier': 'MASTER',\n",
              " 'rank': 'I',\n",
              " 'summonerId': '6mCBeB8PNMnaIL5AUuVb_ZnSUYnlJNRc8nRsey7D5CwFqeo',\n",
              " 'summonerName': 'Fli',\n",
              " 'leaguePoints': 424,\n",
              " 'wins': 222,\n",
              " 'losses': 203,\n",
              " 'veteran': True,\n",
              " 'inactive': False,\n",
              " 'freshBlood': False,\n",
              " 'hotStreak': False}"
            ]
          },
          "metadata": {},
          "execution_count": 167
        }
      ]
    },
    {
      "cell_type": "code",
      "source": [
        "new_li1 = []\n",
        "for i in new_li:\n",
        "     if 'RANKED_SOLO_5x5' not in i:\n",
        "        new_li1.append(i)"
      ],
      "metadata": {
        "id": "GYudrMFeU5sp"
      },
      "execution_count": null,
      "outputs": []
    },
    {
      "cell_type": "code",
      "source": [
        "len(new_li1)"
      ],
      "metadata": {
        "colab": {
          "base_uri": "https://localhost:8080/"
        },
        "id": "On-S6GmQV8aB",
        "outputId": "6dff14c0-6f40-4b19-e269-d8e28c69aad5"
      },
      "execution_count": null,
      "outputs": [
        {
          "output_type": "execute_result",
          "data": {
            "text/plain": [
              "3581"
            ]
          },
          "metadata": {},
          "execution_count": 178
        }
      ]
    },
    {
      "cell_type": "code",
      "source": [
        "a.columns"
      ],
      "metadata": {
        "colab": {
          "base_uri": "https://localhost:8080/"
        },
        "id": "GZYcY_jzXFzy",
        "outputId": "d862f906-bacb-44ed-b896-d2c06bb39eca"
      },
      "execution_count": null,
      "outputs": [
        {
          "output_type": "execute_result",
          "data": {
            "text/plain": [
              "RangeIndex(start=0, stop=3, step=1)"
            ]
          },
          "metadata": {},
          "execution_count": 181
        }
      ]
    },
    {
      "cell_type": "code",
      "source": [
        "new_li1[0][0]"
      ],
      "metadata": {
        "colab": {
          "base_uri": "https://localhost:8080/"
        },
        "id": "n46tfXawZFM_",
        "outputId": "ebe92915-b7cb-416d-f420-e3865866861e"
      },
      "execution_count": null,
      "outputs": [
        {
          "output_type": "execute_result",
          "data": {
            "text/plain": [
              "{'leagueId': '6961a554-f6d7-473c-87cb-d8c108fa060e',\n",
              " 'queueType': 'RANKED_FLEX_SR',\n",
              " 'tier': 'DIAMOND',\n",
              " 'rank': 'III',\n",
              " 'summonerId': '6mCBeB8PNMnaIL5AUuVb_ZnSUYnlJNRc8nRsey7D5CwFqeo',\n",
              " 'summonerName': 'Fli',\n",
              " 'leaguePoints': 0,\n",
              " 'wins': 8,\n",
              " 'losses': 7,\n",
              " 'veteran': False,\n",
              " 'inactive': False,\n",
              " 'freshBlood': False,\n",
              " 'hotStreak': False}"
            ]
          },
          "metadata": {},
          "execution_count": 199
        }
      ]
    },
    {
      "cell_type": "code",
      "source": [
        "for i in new_li1:\n",
        "    if not i:\n",
        "        new_li1.remove(i)"
      ],
      "metadata": {
        "id": "qG9UkYWjbFYI"
      },
      "execution_count": null,
      "outputs": []
    },
    {
      "cell_type": "code",
      "source": [
        "len(new_li1)"
      ],
      "metadata": {
        "colab": {
          "base_uri": "https://localhost:8080/"
        },
        "id": "x9xBgq9fbLrC",
        "outputId": "d8a4ae39-b5ab-41e3-c77f-cb54621562b2"
      },
      "execution_count": null,
      "outputs": [
        {
          "output_type": "execute_result",
          "data": {
            "text/plain": [
              "3552"
            ]
          },
          "metadata": {},
          "execution_count": 210
        }
      ]
    },
    {
      "cell_type": "code",
      "source": [
        "df1=pd.DataFrame(new_li1[0][0],index=[0])"
      ],
      "metadata": {
        "id": "YrVnMdWyZc5K"
      },
      "execution_count": null,
      "outputs": []
    },
    {
      "cell_type": "code",
      "source": [
        "df1 = df1.append(new_li1[1][0], ignore_index=True)"
      ],
      "metadata": {
        "colab": {
          "base_uri": "https://localhost:8080/"
        },
        "id": "wDc_a6a4aCDk",
        "outputId": "39d86e3a-d836-4dd7-842d-4cb6577c34ac"
      },
      "execution_count": null,
      "outputs": [
        {
          "output_type": "stream",
          "name": "stderr",
          "text": [
            "<ipython-input-213-0b7a01df07f0>:1: FutureWarning: The frame.append method is deprecated and will be removed from pandas in a future version. Use pandas.concat instead.\n",
            "  df1 = df1.append(new_li1[1][0], ignore_index=True)\n"
          ]
        }
      ]
    },
    {
      "cell_type": "code",
      "source": [
        "df1.head()"
      ],
      "metadata": {
        "colab": {
          "base_uri": "https://localhost:8080/",
          "height": 277
        },
        "id": "8mO6Jm6UbZry",
        "outputId": "e56c95c0-cbb0-47dc-88ec-11d93014d10c"
      },
      "execution_count": null,
      "outputs": [
        {
          "output_type": "execute_result",
          "data": {
            "text/plain": [
              "                               leagueId        queueType     tier rank  \\\n",
              "0  6961a554-f6d7-473c-87cb-d8c108fa060e   RANKED_FLEX_SR  DIAMOND  III   \n",
              "1  64de6776-701d-3731-9884-9f22c07f5e6b  RANKED_SOLO_5x5   MASTER    I   \n",
              "\n",
              "                                        summonerId summonerName  leaguePoints  \\\n",
              "0  6mCBeB8PNMnaIL5AUuVb_ZnSUYnlJNRc8nRsey7D5CwFqeo          Fli             0   \n",
              "1  yCq_uSUHRYQ8uL0HD2ae_-_oRvG3sspofvzvnYAt5aHdnUg          Lcy           439   \n",
              "\n",
              "   wins  losses  veteran  inactive  freshBlood  hotStreak  \n",
              "0     8       7    False     False       False      False  \n",
              "1    62      47    False     False       False       True  "
            ],
            "text/html": [
              "\n",
              "  <div id=\"df-8af251eb-3388-4d3a-b612-92c7424e53ee\">\n",
              "    <div class=\"colab-df-container\">\n",
              "      <div>\n",
              "<style scoped>\n",
              "    .dataframe tbody tr th:only-of-type {\n",
              "        vertical-align: middle;\n",
              "    }\n",
              "\n",
              "    .dataframe tbody tr th {\n",
              "        vertical-align: top;\n",
              "    }\n",
              "\n",
              "    .dataframe thead th {\n",
              "        text-align: right;\n",
              "    }\n",
              "</style>\n",
              "<table border=\"1\" class=\"dataframe\">\n",
              "  <thead>\n",
              "    <tr style=\"text-align: right;\">\n",
              "      <th></th>\n",
              "      <th>leagueId</th>\n",
              "      <th>queueType</th>\n",
              "      <th>tier</th>\n",
              "      <th>rank</th>\n",
              "      <th>summonerId</th>\n",
              "      <th>summonerName</th>\n",
              "      <th>leaguePoints</th>\n",
              "      <th>wins</th>\n",
              "      <th>losses</th>\n",
              "      <th>veteran</th>\n",
              "      <th>inactive</th>\n",
              "      <th>freshBlood</th>\n",
              "      <th>hotStreak</th>\n",
              "    </tr>\n",
              "  </thead>\n",
              "  <tbody>\n",
              "    <tr>\n",
              "      <th>0</th>\n",
              "      <td>6961a554-f6d7-473c-87cb-d8c108fa060e</td>\n",
              "      <td>RANKED_FLEX_SR</td>\n",
              "      <td>DIAMOND</td>\n",
              "      <td>III</td>\n",
              "      <td>6mCBeB8PNMnaIL5AUuVb_ZnSUYnlJNRc8nRsey7D5CwFqeo</td>\n",
              "      <td>Fli</td>\n",
              "      <td>0</td>\n",
              "      <td>8</td>\n",
              "      <td>7</td>\n",
              "      <td>False</td>\n",
              "      <td>False</td>\n",
              "      <td>False</td>\n",
              "      <td>False</td>\n",
              "    </tr>\n",
              "    <tr>\n",
              "      <th>1</th>\n",
              "      <td>64de6776-701d-3731-9884-9f22c07f5e6b</td>\n",
              "      <td>RANKED_SOLO_5x5</td>\n",
              "      <td>MASTER</td>\n",
              "      <td>I</td>\n",
              "      <td>yCq_uSUHRYQ8uL0HD2ae_-_oRvG3sspofvzvnYAt5aHdnUg</td>\n",
              "      <td>Lcy</td>\n",
              "      <td>439</td>\n",
              "      <td>62</td>\n",
              "      <td>47</td>\n",
              "      <td>False</td>\n",
              "      <td>False</td>\n",
              "      <td>False</td>\n",
              "      <td>True</td>\n",
              "    </tr>\n",
              "  </tbody>\n",
              "</table>\n",
              "</div>\n",
              "      <button class=\"colab-df-convert\" onclick=\"convertToInteractive('df-8af251eb-3388-4d3a-b612-92c7424e53ee')\"\n",
              "              title=\"Convert this dataframe to an interactive table.\"\n",
              "              style=\"display:none;\">\n",
              "        \n",
              "  <svg xmlns=\"http://www.w3.org/2000/svg\" height=\"24px\"viewBox=\"0 0 24 24\"\n",
              "       width=\"24px\">\n",
              "    <path d=\"M0 0h24v24H0V0z\" fill=\"none\"/>\n",
              "    <path d=\"M18.56 5.44l.94 2.06.94-2.06 2.06-.94-2.06-.94-.94-2.06-.94 2.06-2.06.94zm-11 1L8.5 8.5l.94-2.06 2.06-.94-2.06-.94L8.5 2.5l-.94 2.06-2.06.94zm10 10l.94 2.06.94-2.06 2.06-.94-2.06-.94-.94-2.06-.94 2.06-2.06.94z\"/><path d=\"M17.41 7.96l-1.37-1.37c-.4-.4-.92-.59-1.43-.59-.52 0-1.04.2-1.43.59L10.3 9.45l-7.72 7.72c-.78.78-.78 2.05 0 2.83L4 21.41c.39.39.9.59 1.41.59.51 0 1.02-.2 1.41-.59l7.78-7.78 2.81-2.81c.8-.78.8-2.07 0-2.86zM5.41 20L4 18.59l7.72-7.72 1.47 1.35L5.41 20z\"/>\n",
              "  </svg>\n",
              "      </button>\n",
              "      \n",
              "  <style>\n",
              "    .colab-df-container {\n",
              "      display:flex;\n",
              "      flex-wrap:wrap;\n",
              "      gap: 12px;\n",
              "    }\n",
              "\n",
              "    .colab-df-convert {\n",
              "      background-color: #E8F0FE;\n",
              "      border: none;\n",
              "      border-radius: 50%;\n",
              "      cursor: pointer;\n",
              "      display: none;\n",
              "      fill: #1967D2;\n",
              "      height: 32px;\n",
              "      padding: 0 0 0 0;\n",
              "      width: 32px;\n",
              "    }\n",
              "\n",
              "    .colab-df-convert:hover {\n",
              "      background-color: #E2EBFA;\n",
              "      box-shadow: 0px 1px 2px rgba(60, 64, 67, 0.3), 0px 1px 3px 1px rgba(60, 64, 67, 0.15);\n",
              "      fill: #174EA6;\n",
              "    }\n",
              "\n",
              "    [theme=dark] .colab-df-convert {\n",
              "      background-color: #3B4455;\n",
              "      fill: #D2E3FC;\n",
              "    }\n",
              "\n",
              "    [theme=dark] .colab-df-convert:hover {\n",
              "      background-color: #434B5C;\n",
              "      box-shadow: 0px 1px 3px 1px rgba(0, 0, 0, 0.15);\n",
              "      filter: drop-shadow(0px 1px 2px rgba(0, 0, 0, 0.3));\n",
              "      fill: #FFFFFF;\n",
              "    }\n",
              "  </style>\n",
              "\n",
              "      <script>\n",
              "        const buttonEl =\n",
              "          document.querySelector('#df-8af251eb-3388-4d3a-b612-92c7424e53ee button.colab-df-convert');\n",
              "        buttonEl.style.display =\n",
              "          google.colab.kernel.accessAllowed ? 'block' : 'none';\n",
              "\n",
              "        async function convertToInteractive(key) {\n",
              "          const element = document.querySelector('#df-8af251eb-3388-4d3a-b612-92c7424e53ee');\n",
              "          const dataTable =\n",
              "            await google.colab.kernel.invokeFunction('convertToInteractive',\n",
              "                                                     [key], {});\n",
              "          if (!dataTable) return;\n",
              "\n",
              "          const docLinkHtml = 'Like what you see? Visit the ' +\n",
              "            '<a target=\"_blank\" href=https://colab.research.google.com/notebooks/data_table.ipynb>data table notebook</a>'\n",
              "            + ' to learn more about interactive tables.';\n",
              "          element.innerHTML = '';\n",
              "          dataTable['output_type'] = 'display_data';\n",
              "          await google.colab.output.renderOutput(dataTable, element);\n",
              "          const docLink = document.createElement('div');\n",
              "          docLink.innerHTML = docLinkHtml;\n",
              "          element.appendChild(docLink);\n",
              "        }\n",
              "      </script>\n",
              "    </div>\n",
              "  </div>\n",
              "  "
            ]
          },
          "metadata": {},
          "execution_count": 214
        }
      ]
    },
    {
      "cell_type": "code",
      "source": [
        "for i in new_li1[2:]:\n",
        "  df1 = df1.append(i[0], ignore_index=True)"
      ],
      "metadata": {
        "id": "AN6GK5C2ZuI_"
      },
      "execution_count": null,
      "outputs": []
    },
    {
      "cell_type": "code",
      "source": [
        "df1.shape"
      ],
      "metadata": {
        "colab": {
          "base_uri": "https://localhost:8080/"
        },
        "id": "hy4B1NX8ahV7",
        "outputId": "01b5c684-5880-4401-c897-21aedae85c1c"
      },
      "execution_count": null,
      "outputs": [
        {
          "output_type": "execute_result",
          "data": {
            "text/plain": [
              "(3552, 14)"
            ]
          },
          "metadata": {},
          "execution_count": 216
        }
      ]
    },
    {
      "cell_type": "code",
      "source": [
        "df1.head(10)"
      ],
      "metadata": {
        "colab": {
          "base_uri": "https://localhost:8080/",
          "height": 933
        },
        "id": "8e_B0bwEbw4V",
        "outputId": "93ee7b87-4b58-41f8-d0ea-e805e1e8899a"
      },
      "execution_count": null,
      "outputs": [
        {
          "output_type": "execute_result",
          "data": {
            "text/plain": [
              "                               leagueId             queueType         tier  \\\n",
              "0  6961a554-f6d7-473c-87cb-d8c108fa060e        RANKED_FLEX_SR      DIAMOND   \n",
              "1  64de6776-701d-3731-9884-9f22c07f5e6b       RANKED_SOLO_5x5       MASTER   \n",
              "2  64de6776-701d-3731-9884-9f22c07f5e6b       RANKED_SOLO_5x5       MASTER   \n",
              "3  bc716513-3d4b-446e-8315-09e954f3ca96       RANKED_SOLO_5x5         GOLD   \n",
              "4  d7bad020-ee56-37bf-b072-ae37ce64c2c1       RANKED_SOLO_5x5  GRANDMASTER   \n",
              "5  d7bad020-ee56-37bf-b072-ae37ce64c2c1       RANKED_SOLO_5x5  GRANDMASTER   \n",
              "6  9c8422dd-4fce-344c-832e-e907c73f7935       RANKED_SOLO_5x5   CHALLENGER   \n",
              "7  7abd60ac-d5d5-4e22-8339-a4fc1e24b984       RANKED_SOLO_5x5      DIAMOND   \n",
              "8  0364a4f9-c9e4-41d3-8046-896ae5a6aa1d  RANKED_TFT_DOUBLE_UP       SILVER   \n",
              "9  d7bad020-ee56-37bf-b072-ae37ce64c2c1       RANKED_SOLO_5x5  GRANDMASTER   \n",
              "\n",
              "  rank                                         summonerId summonerName  \\\n",
              "0  III    6mCBeB8PNMnaIL5AUuVb_ZnSUYnlJNRc8nRsey7D5CwFqeo          Fli   \n",
              "1    I    yCq_uSUHRYQ8uL0HD2ae_-_oRvG3sspofvzvnYAt5aHdnUg          Lcy   \n",
              "2    I    T9D7Chm42Og6vn-UqRHqyXOi7vDpksI4a4GZ5pN4yHqGb70          rbm   \n",
              "3   IV   pC9fack4kyJDBQCe3IJibSqEf814k0ox4DJQ9kiqv5hyZcv5          vnz   \n",
              "4    I    xSSIADrFGtLteCIm6WZIFE7a7f3dbNzTVwVyIhC2q0RGaQ8         dard   \n",
              "5    I    N-EsqWDfftROHk3jUSfrFtN0zmjpZD220L6o4gLz6eBizgI         eXyu   \n",
              "6    I    ZSFjbR3oUS0ebBptskVhvPNXR4uD6hyh77PjOx1BXPKV8wg         Copý   \n",
              "7    I    _1w3eIyshtKjT0q48pKmvQ_OLw2ql6hJeQAFWtp1WTbgdCY    Sky9Spica   \n",
              "8    I    TvPmDEKxuZeYnCUbGo_TMS0U5TW53sccDB2_l_1LhgmXEXs        Yuu13   \n",
              "9    I  gzsfjRLBuc0DnosWJOOfR6bu0E2MO4rzQWZo0uDqD7k6qV...        maces   \n",
              "\n",
              "   leaguePoints  wins  losses  veteran  inactive  freshBlood  hotStreak  \\\n",
              "0             0     8       7    False     False       False      False   \n",
              "1           439    62      47    False     False       False       True   \n",
              "2           322    98      98    False     False       False      False   \n",
              "3            27    34      27    False     False       False      False   \n",
              "4           690   258     245    False     False       False      False   \n",
              "5           678   147     135     True     False       False      False   \n",
              "6          1660   153     116     True     False       False       True   \n",
              "7            48    41      50    False     False       False      False   \n",
              "8            36    11       4    False     False       False      False   \n",
              "9           758   159     144    False     False       False      False   \n",
              "\n",
              "  miniSeries  \n",
              "0        NaN  \n",
              "1        NaN  \n",
              "2        NaN  \n",
              "3        NaN  \n",
              "4        NaN  \n",
              "5        NaN  \n",
              "6        NaN  \n",
              "7        NaN  \n",
              "8        NaN  \n",
              "9        NaN  "
            ],
            "text/html": [
              "\n",
              "  <div id=\"df-8618f946-bdf9-445e-a86e-f1400ce36143\">\n",
              "    <div class=\"colab-df-container\">\n",
              "      <div>\n",
              "<style scoped>\n",
              "    .dataframe tbody tr th:only-of-type {\n",
              "        vertical-align: middle;\n",
              "    }\n",
              "\n",
              "    .dataframe tbody tr th {\n",
              "        vertical-align: top;\n",
              "    }\n",
              "\n",
              "    .dataframe thead th {\n",
              "        text-align: right;\n",
              "    }\n",
              "</style>\n",
              "<table border=\"1\" class=\"dataframe\">\n",
              "  <thead>\n",
              "    <tr style=\"text-align: right;\">\n",
              "      <th></th>\n",
              "      <th>leagueId</th>\n",
              "      <th>queueType</th>\n",
              "      <th>tier</th>\n",
              "      <th>rank</th>\n",
              "      <th>summonerId</th>\n",
              "      <th>summonerName</th>\n",
              "      <th>leaguePoints</th>\n",
              "      <th>wins</th>\n",
              "      <th>losses</th>\n",
              "      <th>veteran</th>\n",
              "      <th>inactive</th>\n",
              "      <th>freshBlood</th>\n",
              "      <th>hotStreak</th>\n",
              "      <th>miniSeries</th>\n",
              "    </tr>\n",
              "  </thead>\n",
              "  <tbody>\n",
              "    <tr>\n",
              "      <th>0</th>\n",
              "      <td>6961a554-f6d7-473c-87cb-d8c108fa060e</td>\n",
              "      <td>RANKED_FLEX_SR</td>\n",
              "      <td>DIAMOND</td>\n",
              "      <td>III</td>\n",
              "      <td>6mCBeB8PNMnaIL5AUuVb_ZnSUYnlJNRc8nRsey7D5CwFqeo</td>\n",
              "      <td>Fli</td>\n",
              "      <td>0</td>\n",
              "      <td>8</td>\n",
              "      <td>7</td>\n",
              "      <td>False</td>\n",
              "      <td>False</td>\n",
              "      <td>False</td>\n",
              "      <td>False</td>\n",
              "      <td>NaN</td>\n",
              "    </tr>\n",
              "    <tr>\n",
              "      <th>1</th>\n",
              "      <td>64de6776-701d-3731-9884-9f22c07f5e6b</td>\n",
              "      <td>RANKED_SOLO_5x5</td>\n",
              "      <td>MASTER</td>\n",
              "      <td>I</td>\n",
              "      <td>yCq_uSUHRYQ8uL0HD2ae_-_oRvG3sspofvzvnYAt5aHdnUg</td>\n",
              "      <td>Lcy</td>\n",
              "      <td>439</td>\n",
              "      <td>62</td>\n",
              "      <td>47</td>\n",
              "      <td>False</td>\n",
              "      <td>False</td>\n",
              "      <td>False</td>\n",
              "      <td>True</td>\n",
              "      <td>NaN</td>\n",
              "    </tr>\n",
              "    <tr>\n",
              "      <th>2</th>\n",
              "      <td>64de6776-701d-3731-9884-9f22c07f5e6b</td>\n",
              "      <td>RANKED_SOLO_5x5</td>\n",
              "      <td>MASTER</td>\n",
              "      <td>I</td>\n",
              "      <td>T9D7Chm42Og6vn-UqRHqyXOi7vDpksI4a4GZ5pN4yHqGb70</td>\n",
              "      <td>rbm</td>\n",
              "      <td>322</td>\n",
              "      <td>98</td>\n",
              "      <td>98</td>\n",
              "      <td>False</td>\n",
              "      <td>False</td>\n",
              "      <td>False</td>\n",
              "      <td>False</td>\n",
              "      <td>NaN</td>\n",
              "    </tr>\n",
              "    <tr>\n",
              "      <th>3</th>\n",
              "      <td>bc716513-3d4b-446e-8315-09e954f3ca96</td>\n",
              "      <td>RANKED_SOLO_5x5</td>\n",
              "      <td>GOLD</td>\n",
              "      <td>IV</td>\n",
              "      <td>pC9fack4kyJDBQCe3IJibSqEf814k0ox4DJQ9kiqv5hyZcv5</td>\n",
              "      <td>vnz</td>\n",
              "      <td>27</td>\n",
              "      <td>34</td>\n",
              "      <td>27</td>\n",
              "      <td>False</td>\n",
              "      <td>False</td>\n",
              "      <td>False</td>\n",
              "      <td>False</td>\n",
              "      <td>NaN</td>\n",
              "    </tr>\n",
              "    <tr>\n",
              "      <th>4</th>\n",
              "      <td>d7bad020-ee56-37bf-b072-ae37ce64c2c1</td>\n",
              "      <td>RANKED_SOLO_5x5</td>\n",
              "      <td>GRANDMASTER</td>\n",
              "      <td>I</td>\n",
              "      <td>xSSIADrFGtLteCIm6WZIFE7a7f3dbNzTVwVyIhC2q0RGaQ8</td>\n",
              "      <td>dard</td>\n",
              "      <td>690</td>\n",
              "      <td>258</td>\n",
              "      <td>245</td>\n",
              "      <td>False</td>\n",
              "      <td>False</td>\n",
              "      <td>False</td>\n",
              "      <td>False</td>\n",
              "      <td>NaN</td>\n",
              "    </tr>\n",
              "    <tr>\n",
              "      <th>5</th>\n",
              "      <td>d7bad020-ee56-37bf-b072-ae37ce64c2c1</td>\n",
              "      <td>RANKED_SOLO_5x5</td>\n",
              "      <td>GRANDMASTER</td>\n",
              "      <td>I</td>\n",
              "      <td>N-EsqWDfftROHk3jUSfrFtN0zmjpZD220L6o4gLz6eBizgI</td>\n",
              "      <td>eXyu</td>\n",
              "      <td>678</td>\n",
              "      <td>147</td>\n",
              "      <td>135</td>\n",
              "      <td>True</td>\n",
              "      <td>False</td>\n",
              "      <td>False</td>\n",
              "      <td>False</td>\n",
              "      <td>NaN</td>\n",
              "    </tr>\n",
              "    <tr>\n",
              "      <th>6</th>\n",
              "      <td>9c8422dd-4fce-344c-832e-e907c73f7935</td>\n",
              "      <td>RANKED_SOLO_5x5</td>\n",
              "      <td>CHALLENGER</td>\n",
              "      <td>I</td>\n",
              "      <td>ZSFjbR3oUS0ebBptskVhvPNXR4uD6hyh77PjOx1BXPKV8wg</td>\n",
              "      <td>Copý</td>\n",
              "      <td>1660</td>\n",
              "      <td>153</td>\n",
              "      <td>116</td>\n",
              "      <td>True</td>\n",
              "      <td>False</td>\n",
              "      <td>False</td>\n",
              "      <td>True</td>\n",
              "      <td>NaN</td>\n",
              "    </tr>\n",
              "    <tr>\n",
              "      <th>7</th>\n",
              "      <td>7abd60ac-d5d5-4e22-8339-a4fc1e24b984</td>\n",
              "      <td>RANKED_SOLO_5x5</td>\n",
              "      <td>DIAMOND</td>\n",
              "      <td>I</td>\n",
              "      <td>_1w3eIyshtKjT0q48pKmvQ_OLw2ql6hJeQAFWtp1WTbgdCY</td>\n",
              "      <td>Sky9Spica</td>\n",
              "      <td>48</td>\n",
              "      <td>41</td>\n",
              "      <td>50</td>\n",
              "      <td>False</td>\n",
              "      <td>False</td>\n",
              "      <td>False</td>\n",
              "      <td>False</td>\n",
              "      <td>NaN</td>\n",
              "    </tr>\n",
              "    <tr>\n",
              "      <th>8</th>\n",
              "      <td>0364a4f9-c9e4-41d3-8046-896ae5a6aa1d</td>\n",
              "      <td>RANKED_TFT_DOUBLE_UP</td>\n",
              "      <td>SILVER</td>\n",
              "      <td>I</td>\n",
              "      <td>TvPmDEKxuZeYnCUbGo_TMS0U5TW53sccDB2_l_1LhgmXEXs</td>\n",
              "      <td>Yuu13</td>\n",
              "      <td>36</td>\n",
              "      <td>11</td>\n",
              "      <td>4</td>\n",
              "      <td>False</td>\n",
              "      <td>False</td>\n",
              "      <td>False</td>\n",
              "      <td>False</td>\n",
              "      <td>NaN</td>\n",
              "    </tr>\n",
              "    <tr>\n",
              "      <th>9</th>\n",
              "      <td>d7bad020-ee56-37bf-b072-ae37ce64c2c1</td>\n",
              "      <td>RANKED_SOLO_5x5</td>\n",
              "      <td>GRANDMASTER</td>\n",
              "      <td>I</td>\n",
              "      <td>gzsfjRLBuc0DnosWJOOfR6bu0E2MO4rzQWZo0uDqD7k6qV...</td>\n",
              "      <td>maces</td>\n",
              "      <td>758</td>\n",
              "      <td>159</td>\n",
              "      <td>144</td>\n",
              "      <td>False</td>\n",
              "      <td>False</td>\n",
              "      <td>False</td>\n",
              "      <td>False</td>\n",
              "      <td>NaN</td>\n",
              "    </tr>\n",
              "  </tbody>\n",
              "</table>\n",
              "</div>\n",
              "      <button class=\"colab-df-convert\" onclick=\"convertToInteractive('df-8618f946-bdf9-445e-a86e-f1400ce36143')\"\n",
              "              title=\"Convert this dataframe to an interactive table.\"\n",
              "              style=\"display:none;\">\n",
              "        \n",
              "  <svg xmlns=\"http://www.w3.org/2000/svg\" height=\"24px\"viewBox=\"0 0 24 24\"\n",
              "       width=\"24px\">\n",
              "    <path d=\"M0 0h24v24H0V0z\" fill=\"none\"/>\n",
              "    <path d=\"M18.56 5.44l.94 2.06.94-2.06 2.06-.94-2.06-.94-.94-2.06-.94 2.06-2.06.94zm-11 1L8.5 8.5l.94-2.06 2.06-.94-2.06-.94L8.5 2.5l-.94 2.06-2.06.94zm10 10l.94 2.06.94-2.06 2.06-.94-2.06-.94-.94-2.06-.94 2.06-2.06.94z\"/><path d=\"M17.41 7.96l-1.37-1.37c-.4-.4-.92-.59-1.43-.59-.52 0-1.04.2-1.43.59L10.3 9.45l-7.72 7.72c-.78.78-.78 2.05 0 2.83L4 21.41c.39.39.9.59 1.41.59.51 0 1.02-.2 1.41-.59l7.78-7.78 2.81-2.81c.8-.78.8-2.07 0-2.86zM5.41 20L4 18.59l7.72-7.72 1.47 1.35L5.41 20z\"/>\n",
              "  </svg>\n",
              "      </button>\n",
              "      \n",
              "  <style>\n",
              "    .colab-df-container {\n",
              "      display:flex;\n",
              "      flex-wrap:wrap;\n",
              "      gap: 12px;\n",
              "    }\n",
              "\n",
              "    .colab-df-convert {\n",
              "      background-color: #E8F0FE;\n",
              "      border: none;\n",
              "      border-radius: 50%;\n",
              "      cursor: pointer;\n",
              "      display: none;\n",
              "      fill: #1967D2;\n",
              "      height: 32px;\n",
              "      padding: 0 0 0 0;\n",
              "      width: 32px;\n",
              "    }\n",
              "\n",
              "    .colab-df-convert:hover {\n",
              "      background-color: #E2EBFA;\n",
              "      box-shadow: 0px 1px 2px rgba(60, 64, 67, 0.3), 0px 1px 3px 1px rgba(60, 64, 67, 0.15);\n",
              "      fill: #174EA6;\n",
              "    }\n",
              "\n",
              "    [theme=dark] .colab-df-convert {\n",
              "      background-color: #3B4455;\n",
              "      fill: #D2E3FC;\n",
              "    }\n",
              "\n",
              "    [theme=dark] .colab-df-convert:hover {\n",
              "      background-color: #434B5C;\n",
              "      box-shadow: 0px 1px 3px 1px rgba(0, 0, 0, 0.15);\n",
              "      filter: drop-shadow(0px 1px 2px rgba(0, 0, 0, 0.3));\n",
              "      fill: #FFFFFF;\n",
              "    }\n",
              "  </style>\n",
              "\n",
              "      <script>\n",
              "        const buttonEl =\n",
              "          document.querySelector('#df-8618f946-bdf9-445e-a86e-f1400ce36143 button.colab-df-convert');\n",
              "        buttonEl.style.display =\n",
              "          google.colab.kernel.accessAllowed ? 'block' : 'none';\n",
              "\n",
              "        async function convertToInteractive(key) {\n",
              "          const element = document.querySelector('#df-8618f946-bdf9-445e-a86e-f1400ce36143');\n",
              "          const dataTable =\n",
              "            await google.colab.kernel.invokeFunction('convertToInteractive',\n",
              "                                                     [key], {});\n",
              "          if (!dataTable) return;\n",
              "\n",
              "          const docLinkHtml = 'Like what you see? Visit the ' +\n",
              "            '<a target=\"_blank\" href=https://colab.research.google.com/notebooks/data_table.ipynb>data table notebook</a>'\n",
              "            + ' to learn more about interactive tables.';\n",
              "          element.innerHTML = '';\n",
              "          dataTable['output_type'] = 'display_data';\n",
              "          await google.colab.output.renderOutput(dataTable, element);\n",
              "          const docLink = document.createElement('div');\n",
              "          docLink.innerHTML = docLinkHtml;\n",
              "          element.appendChild(docLink);\n",
              "        }\n",
              "      </script>\n",
              "    </div>\n",
              "  </div>\n",
              "  "
            ]
          },
          "metadata": {},
          "execution_count": 218
        }
      ]
    },
    {
      "cell_type": "code",
      "source": [
        "df1 = df1[~df1['queueType'].str.startswith('RANKED_TFT_DOUBLE_UP')]\n"
      ],
      "metadata": {
        "id": "fjJguxtNc1Mc"
      },
      "execution_count": null,
      "outputs": []
    },
    {
      "cell_type": "code",
      "source": [
        "df1.to_csv('lp.csv', index=False)\n"
      ],
      "metadata": {
        "id": "BTHL3-0PX6_p"
      },
      "execution_count": null,
      "outputs": []
    },
    {
      "cell_type": "markdown",
      "source": [
        "###ID List"
      ],
      "metadata": {
        "id": "G2qrVFTd4z6e"
      }
    },
    {
      "cell_type": "code",
      "source": [
        "id = ['jamican banana', 'nalamango', '6K OnFleek', 'TWTV ISLESWORLD', 'TBS1', 'Fishlord', 'dard', 'ACKÈRMAN', 'YangXi qaq', 'ScaryJerry', 'Pentaless', 'Draven696969', 'TTV AKASHI10', 'V1per', 'Dam Supporters', 'DIGWIN', 'Aiden Yasuo', 'Yuu13', 'Solarbacca', 'M1nit', 'Eclipse', 'TF Blade', 'C9 Zven', 'Josedeodo', 'Pomerzz TTV', 'Matty', 'TL Honda CoreJJ', 'WillNA1', 'DIPLEX', 'broken mirror', 'Tony Top', 'TwTv KoKooPuffs', 'Y4ma', 'BABO TOP', '5kid', 'FormlessGameplay', 'Cytheur', 'ROCKBOOM', 'Down Kim', 'Insomniaa', 'Do it again', 'KR tacokiller', 'u should know me', 'Feather Daddy', 'Replied', 'Levitate', 'JUG MORANT', 'dog kachu', 'Cupic', 'Allorim']"
      ],
      "metadata": {
        "id": "sGiNerokuV5b"
      },
      "execution_count": null,
      "outputs": []
    },
    {
      "cell_type": "markdown",
      "source": [
        "## PUUID"
      ],
      "metadata": {
        "id": "DKNk4yMZ3yVw"
      }
    },
    {
      "cell_type": "code",
      "source": [
        "def get_puuid(my_key,id):\n",
        "   puuid_list=[]\n",
        "   for i in range(len(id)):\n",
        "      summoner_url = \"https://na1.api.riotgames.com/lol/summoner/v4/summoners/by-name/\" + str(id[i]) + '?api_key=' + my_key\n",
        "      get_player_info = requests.get(summoner_url).json()\n",
        "      puuid = get_player_info['puuid']\n",
        "      puuid_list.append(puuid)\n",
        "   return puuid_list\n",
        "     "
      ],
      "metadata": {
        "id": "i-XpjssPnclc"
      },
      "execution_count": null,
      "outputs": []
    },
    {
      "cell_type": "code",
      "source": [
        "puuid=get_puuid(my_key,id)"
      ],
      "metadata": {
        "id": "RQH2HYN0y32H"
      },
      "execution_count": null,
      "outputs": []
    },
    {
      "cell_type": "code",
      "source": [
        "summoner_url = \"https://na1.api.riotgames.com/lol/summoner/v4/summoners/by-name/Pomerzz TTV/?api_key=RGAPI-30478052-4c9d-4e84-8790-4957af59f9c4\""
      ],
      "metadata": {
        "id": "DlIfp1T6AEDu"
      },
      "execution_count": null,
      "outputs": []
    },
    {
      "cell_type": "code",
      "source": [
        "get_player_info = requests.get(summoner_url).json()\n",
        "puuid = get_player_info['puuid']"
      ],
      "metadata": {
        "id": "Z5nIGJzhA3IF"
      },
      "execution_count": null,
      "outputs": []
    },
    {
      "cell_type": "code",
      "source": [
        "puuid"
      ],
      "metadata": {
        "colab": {
          "base_uri": "https://localhost:8080/",
          "height": 38
        },
        "id": "NzaGGgZUA5iM",
        "outputId": "f2725b70-6314-4ce1-ab82-f86a59289581"
      },
      "execution_count": null,
      "outputs": [
        {
          "output_type": "execute_result",
          "data": {
            "text/plain": [
              "'0ScP_Vy5TmZUTA00TmJPJIJdtEx4oCAOMYGy-RzKcVNeImXsRmxGh1r32ayIuTg3Iz__h5MkLAYI8A'"
            ],
            "application/vnd.google.colaboratory.intrinsic+json": {
              "type": "string"
            }
          },
          "metadata": {},
          "execution_count": 20
        }
      ]
    },
    {
      "cell_type": "code",
      "source": [
        "len(puuid)"
      ],
      "metadata": {
        "colab": {
          "base_uri": "https://localhost:8080/"
        },
        "id": "dJjBEjTy0Dwt",
        "outputId": "7e4c09a6-a06d-4f34-c9cd-85e9ccb7eac7"
      },
      "execution_count": null,
      "outputs": [
        {
          "output_type": "execute_result",
          "data": {
            "text/plain": [
              "50"
            ]
          },
          "metadata": {},
          "execution_count": 6
        }
      ]
    },
    {
      "cell_type": "code",
      "source": [
        "puuid[0]"
      ],
      "metadata": {
        "colab": {
          "base_uri": "https://localhost:8080/",
          "height": 38
        },
        "id": "H8oyNRZm0eYO",
        "outputId": "344d7a9f-a9a9-48bb-f59d-e98f684ec022"
      },
      "execution_count": null,
      "outputs": [
        {
          "output_type": "execute_result",
          "data": {
            "text/plain": [
              "'nxA_Tsw7bavAjx6wEN66jmHbSaaaYic2Cnnfc-VIyLRl3EMsVZpJKRZsMO9Ts-Fg9fyi3N9wfivniQ'"
            ],
            "application/vnd.google.colaboratory.intrinsic+json": {
              "type": "string"
            }
          },
          "metadata": {},
          "execution_count": 7
        }
      ]
    },
    {
      "cell_type": "markdown",
      "source": [
        "## Get Match Id"
      ],
      "metadata": {
        "id": "BkKkq-w5VV-_"
      }
    },
    {
      "cell_type": "code",
      "source": [
        "def get_match_id(puuid):\n",
        "    match_id_list=[]\n",
        "    for i in range(len(puuid)):\n",
        "      get_match= \"https://americas.api.riotgames.com/lol/match/v5/matches/by-puuid/\" +str(puuid[i])+ \"/ids?type=ranked&start=0&count=100\" + '&api_key=' + my_key\n",
        "      match_info = requests.get(get_match).json()\n",
        "      match_id_list.append(match_info)\n",
        "\n",
        "    return match_id_list"
      ],
      "metadata": {
        "id": "pDXbL6DgyR7I"
      },
      "execution_count": null,
      "outputs": []
    },
    {
      "cell_type": "code",
      "source": [
        "match_id=get_match_id(puuid)"
      ],
      "metadata": {
        "id": "yiR4ooaXre-T"
      },
      "execution_count": null,
      "outputs": []
    },
    {
      "cell_type": "code",
      "source": [
        "len(match_id)"
      ],
      "metadata": {
        "colab": {
          "base_uri": "https://localhost:8080/"
        },
        "id": "nIYteIT_2FNV",
        "outputId": "6fe97def-edf9-46a2-8dd1-dc9b892e5488"
      },
      "execution_count": null,
      "outputs": [
        {
          "output_type": "execute_result",
          "data": {
            "text/plain": [
              "50"
            ]
          },
          "metadata": {},
          "execution_count": 10
        }
      ]
    },
    {
      "cell_type": "code",
      "source": [
        "combined_match_id=[]\n",
        "for i in match_id:\n",
        "    combined_match_id += i\n",
        "len(combined_match_id)"
      ],
      "metadata": {
        "colab": {
          "base_uri": "https://localhost:8080/"
        },
        "id": "04Y30JsV5GHb",
        "outputId": "e82492d9-dea8-40f6-9b91-a40361634391"
      },
      "execution_count": null,
      "outputs": [
        {
          "output_type": "execute_result",
          "data": {
            "text/plain": [
              "4900"
            ]
          },
          "metadata": {},
          "execution_count": 11
        }
      ]
    },
    {
      "cell_type": "markdown",
      "source": [
        "## Remove Duplicate"
      ],
      "metadata": {
        "id": "dFBxrWeoVeTI"
      }
    },
    {
      "cell_type": "code",
      "source": [
        "final_combined_match_id = list(set(combined_match_id))"
      ],
      "metadata": {
        "id": "n9KMmveK5lMf"
      },
      "execution_count": null,
      "outputs": []
    },
    {
      "cell_type": "code",
      "source": [
        "len(final_combined_match_id)"
      ],
      "metadata": {
        "colab": {
          "base_uri": "https://localhost:8080/"
        },
        "id": "uves94HN7CC1",
        "outputId": "3d8cc513-be54-435d-8854-57aeeec5cea0"
      },
      "execution_count": null,
      "outputs": [
        {
          "output_type": "execute_result",
          "data": {
            "text/plain": [
              "2769"
            ]
          },
          "metadata": {},
          "execution_count": 13
        }
      ]
    },
    {
      "cell_type": "markdown",
      "source": [
        "## Get in game info"
      ],
      "metadata": {
        "id": "c4OoJuZsVksG"
      }
    },
    {
      "cell_type": "code",
      "source": [
        "import pandas as pd"
      ],
      "metadata": {
        "id": "NhUm7Q_-DBuK"
      },
      "execution_count": null,
      "outputs": []
    },
    {
      "cell_type": "code",
      "source": [
        "def get_game_info(final_combined_match_id):\n",
        "  mydf_list=[]\n",
        "  for i in final_combined_match_id:\n",
        "    get_in_game_info_=\"https://americas.api.riotgames.com/lol/match/v5/matches/\" +str(i)+ '?api_key=' + my_key \n",
        "    In_game_info = requests.get(get_in_game_info_).json()\n",
        "    In_game_info=In_game_info[\"info\"][\"participants\"] \n",
        "    mydf_list.append(pd.DataFrame.from_dict(In_game_info))\n",
        "  return mydf_list\n"
      ],
      "metadata": {
        "id": "JUEqG-kuvOiJ"
      },
      "execution_count": null,
      "outputs": []
    },
    {
      "cell_type": "markdown",
      "source": [
        "## Split Data into different batch to avoud limits"
      ],
      "metadata": {
        "id": "gOmZUC_2WTB1"
      }
    },
    {
      "cell_type": "code",
      "source": [
        "final_combined_match_id1 = final_combined_match_id[:100]       \n",
        "final_combined_match_id2 = final_combined_match_id[100:200]   \n",
        "final_combined_match_id3 = final_combined_match_id[200:300]\n",
        "final_combined_match_id4 = final_combined_match_id[300:400]    \n",
        "final_combined_match_id5 = final_combined_match_id[400:500]\n",
        "final_combined_match_id6 = final_combined_match_id[500:600]\n",
        "final_combined_match_id7 = final_combined_match_id[600:700]\n",
        "final_combined_match_id8 = final_combined_match_id[700:800]\n",
        "final_combined_match_id9 = final_combined_match_id[800:900]\n",
        "final_combined_match_id10 = final_combined_match_id[900:1000]\n",
        "final_combined_match_id11 = final_combined_match_id[1000:1100]\n",
        "final_combined_match_id12 = final_combined_match_id[1100:1200]\n",
        "final_combined_match_id13 = final_combined_match_id[1200:1300]\n",
        "final_combined_match_id14 = final_combined_match_id[1300:1400]\n",
        "final_combined_match_id15 = final_combined_match_id[1400:1500]\n",
        "final_combined_match_id16 = final_combined_match_id[1500:1600]\n",
        "final_combined_match_id17 = final_combined_match_id[1600:1700]\n",
        "final_combined_match_id18 = final_combined_match_id[1700:1800]\n",
        "final_combined_match_id19 = final_combined_match_id[1800:1900]\n",
        "final_combined_match_id20 = final_combined_match_id[1900:2000]\n",
        "final_combined_match_id21 = final_combined_match_id[2000:2100]\n",
        "final_combined_match_id22 = final_combined_match_id[2100:2200]\n",
        "final_combined_match_id23 = final_combined_match_id[2200:2300]\n",
        "final_combined_match_id24= final_combined_match_id[2300:2400]\n",
        "final_combined_match_id25= final_combined_match_id[2400:2500]   \n",
        "final_combined_match_id26 = final_combined_match_id[2500:2600] \n",
        "final_combined_match_id27 = final_combined_match_id[2600:2700]       \n"
      ],
      "metadata": {
        "id": "ENJk48te8uIN"
      },
      "execution_count": null,
      "outputs": []
    },
    {
      "cell_type": "code",
      "source": [
        "final_combined_match_id_list=[]\n",
        "play_info_list=[]\n",
        "final_match_df=[]\n",
        "for i in range(0,28,1):\n",
        "  final_combined_match_id_list.append(\"final_combined_match_id\"+str(i))\n",
        "  play_info_list.append(\"play_info_list\" + str(i))\n",
        "  final_match_df.append(\"final_match_df\" + str(i))\n"
      ],
      "metadata": {
        "id": "MDSGfNvyNlYN"
      },
      "execution_count": null,
      "outputs": []
    },
    {
      "cell_type": "markdown",
      "source": [
        "## Combine all the data from different batch"
      ],
      "metadata": {
        "id": "O8C1ZuARWdet"
      }
    },
    {
      "cell_type": "code",
      "source": [
        "import time\n",
        "play_info_list1=get_game_info(final_combined_match_id1)\n",
        "final_match_df1 = pd.concat(play_info_list1)\n",
        "print(final_match_df1.shape)\n",
        "time.sleep(120)\n",
        "\n",
        "play_info_list2=get_game_info(final_combined_match_id2)\n",
        "final_match_df2 = pd.concat(play_info_list2)\n",
        "print(final_match_df2.shape)\n",
        "time.sleep(120)\n",
        "\n",
        "play_info_list3=get_game_info(final_combined_match_id3)\n",
        "final_match_df3 = pd.concat(play_info_list3)\n",
        "print(final_match_df3.shape)\n",
        "time.sleep(120)\n",
        "\n",
        "play_info_list4=get_game_info(final_combined_match_id4)\n",
        "final_match_df4 = pd.concat(play_info_list4)\n",
        "print(final_match_df4.shape)\n",
        "time.sleep(120)\n",
        "\n",
        "play_info_list5=get_game_info(final_combined_match_id5)\n",
        "final_match_df5 = pd.concat(play_info_list5)\n",
        "print(final_match_df5.shape)\n",
        "time.sleep(120)\n",
        "\n",
        "play_info_list6=get_game_info(final_combined_match_id6)\n",
        "final_match_df6 = pd.concat(play_info_list6)\n",
        "print(final_match_df6.shape)\n",
        "time.sleep(120)\n",
        "\n",
        "play_info_list7=get_game_info(final_combined_match_id7)\n",
        "final_match_df7 = pd.concat(play_info_list7)\n",
        "print(final_match_df7.shape)\n",
        "time.sleep(120)\n",
        "\n",
        "play_info_list8=get_game_info(final_combined_match_id8)\n",
        "final_match_df8 = pd.concat(play_info_list8)\n",
        "print(final_match_df8.shape)\n",
        "time.sleep(120)\n",
        "\n",
        "play_info_list9=get_game_info(final_combined_match_id9)\n",
        "final_match_df9 = pd.concat(play_info_list9)\n",
        "print(final_match_df9.shape)\n",
        "time.sleep(120)\n",
        "\n",
        "play_info_list10=get_game_info(final_combined_match_id10)\n",
        "final_match_df10 = pd.concat(play_info_list10)\n",
        "print(final_match_df10.shape)\n",
        "time.sleep(120)\n"
      ],
      "metadata": {
        "id": "jdQDKk7aIn2t",
        "colab": {
          "base_uri": "https://localhost:8080/"
        },
        "outputId": "145fb998-e887-42a8-cc59-1abaa21c671e"
      },
      "execution_count": null,
      "outputs": [
        {
          "output_type": "stream",
          "name": "stdout",
          "text": [
            "(1000, 121)\n",
            "(1000, 121)\n",
            "(1000, 121)\n",
            "(1000, 121)\n",
            "(1000, 121)\n",
            "(1000, 121)\n",
            "(1000, 121)\n",
            "(1000, 121)\n",
            "(1000, 121)\n",
            "(1000, 121)\n"
          ]
        }
      ]
    },
    {
      "cell_type": "code",
      "source": [
        "my_df_part1=pd.concat([final_match_df1, final_match_df2, final_match_df3,final_match_df4,final_match_df5,final_match_df6,final_match_df7,final_match_df8,final_match_df9,final_match_df10])"
      ],
      "metadata": {
        "id": "NH7QYIrQ235T"
      },
      "execution_count": null,
      "outputs": []
    },
    {
      "cell_type": "code",
      "source": [
        "my_df_part1.shape"
      ],
      "metadata": {
        "colab": {
          "base_uri": "https://localhost:8080/"
        },
        "id": "Phtz2z8524o3",
        "outputId": "ceee5948-0ea5-4f58-a7fd-904121d2a6e6"
      },
      "execution_count": null,
      "outputs": [
        {
          "output_type": "execute_result",
          "data": {
            "text/plain": [
              "(10000, 121)"
            ]
          },
          "metadata": {},
          "execution_count": 22
        }
      ]
    },
    {
      "cell_type": "code",
      "source": [
        "import time\n",
        "play_info_list11=get_game_info(final_combined_match_id11)\n",
        "final_match_df11 = pd.concat(play_info_list11)\n",
        "print(final_match_df11.shape)\n",
        "time.sleep(120)\n",
        "\n",
        "play_info_list12=get_game_info(final_combined_match_id12)\n",
        "final_match_df12 = pd.concat(play_info_list12)\n",
        "print(final_match_df12.shape)\n",
        "time.sleep(120)\n",
        "\n",
        "play_info_list13=get_game_info(final_combined_match_id13)\n",
        "final_match_df13 = pd.concat(play_info_list13)\n",
        "print(final_match_df13.shape)\n",
        "time.sleep(120)\n",
        "\n",
        "play_info_list14=get_game_info(final_combined_match_id14)\n",
        "final_match_df14 = pd.concat(play_info_list14)\n",
        "print(final_match_df14.shape)\n",
        "time.sleep(120)\n",
        "\n",
        "play_info_list15=get_game_info(final_combined_match_id15)\n",
        "final_match_df15 = pd.concat(play_info_list15)\n",
        "print(final_match_df15.shape)\n",
        "time.sleep(120)\n",
        "\n",
        "play_info_list16=get_game_info(final_combined_match_id16)\n",
        "final_match_df16 = pd.concat(play_info_list16)\n",
        "print(final_match_df16.shape)\n",
        "time.sleep(120)\n",
        "\n",
        "play_info_list17=get_game_info(final_combined_match_id17)\n",
        "final_match_df17 = pd.concat(play_info_list17)\n",
        "print(final_match_df17.shape)\n",
        "time.sleep(120)\n",
        "\n",
        "play_info_list18=get_game_info(final_combined_match_id18)\n",
        "final_match_df18 = pd.concat(play_info_list18)\n",
        "print(final_match_df18.shape)\n",
        "time.sleep(120)\n",
        "\n",
        "play_info_list19=get_game_info(final_combined_match_id19)\n",
        "final_match_df19 = pd.concat(play_info_list19)\n",
        "print(final_match_df19.shape)\n",
        "time.sleep(120)\n",
        "\n",
        "play_info_list20=get_game_info(final_combined_match_id20)\n",
        "final_match_df20 = pd.concat(play_info_list20)\n",
        "print(final_match_df20.shape)\n",
        "\n",
        "\n",
        "\n"
      ],
      "metadata": {
        "colab": {
          "base_uri": "https://localhost:8080/"
        },
        "id": "54Zafk6CbIj3",
        "outputId": "b8b8e6db-f48b-42ab-cbef-becc5e41b71e"
      },
      "execution_count": null,
      "outputs": [
        {
          "output_type": "stream",
          "name": "stdout",
          "text": [
            "(1000, 121)\n",
            "(1000, 121)\n",
            "(1000, 121)\n",
            "(1000, 121)\n",
            "(1000, 121)\n",
            "(1000, 121)\n",
            "(1000, 121)\n",
            "(1000, 121)\n",
            "(1000, 121)\n",
            "(1000, 121)\n"
          ]
        }
      ]
    },
    {
      "cell_type": "code",
      "source": [
        "my_df_part2=pd.concat([final_match_df11, final_match_df12, final_match_df13,final_match_df14,final_match_df15,final_match_df16,final_match_df17,final_match_df18,final_match_df19,final_match_df20])"
      ],
      "metadata": {
        "id": "-8rVzqcGij_-"
      },
      "execution_count": null,
      "outputs": []
    },
    {
      "cell_type": "code",
      "source": [
        "my_df_part2.shape"
      ],
      "metadata": {
        "colab": {
          "base_uri": "https://localhost:8080/"
        },
        "id": "ffQDe9eRizfS",
        "outputId": "35a47f04-dd54-47ed-ecbb-f60daa0d9d14"
      },
      "execution_count": null,
      "outputs": [
        {
          "output_type": "execute_result",
          "data": {
            "text/plain": [
              "(10000, 121)"
            ]
          },
          "metadata": {},
          "execution_count": 25
        }
      ]
    },
    {
      "cell_type": "code",
      "source": [
        "import time\n",
        "play_info_list21=get_game_info(final_combined_match_id21)\n",
        "final_match_df21 = pd.concat(play_info_list21)\n",
        "print(final_match_df21.shape)\n",
        "time.sleep(120)\n",
        "\n",
        "play_info_list22=get_game_info(final_combined_match_id22)\n",
        "final_match_df22 = pd.concat(play_info_list22)\n",
        "print(final_match_df22.shape)\n",
        "time.sleep(120)\n",
        "\n",
        "play_info_list23=get_game_info(final_combined_match_id23)\n",
        "final_match_df23 = pd.concat(play_info_list23)\n",
        "print(final_match_df23.shape)\n",
        "time.sleep(120)\n",
        "\n",
        "play_info_list24=get_game_info(final_combined_match_id24)\n",
        "final_match_df24 = pd.concat(play_info_list24)\n",
        "print(final_match_df24.shape)\n",
        "time.sleep(120)\n",
        "\n",
        "play_info_list25=get_game_info(final_combined_match_id25)\n",
        "final_match_df25 = pd.concat(play_info_list25)\n",
        "print(final_match_df25.shape)\n",
        "time.sleep(120)\n",
        "\n",
        "play_info_list26=get_game_info(final_combined_match_id26)\n",
        "final_match_df26 = pd.concat(play_info_list26)\n",
        "print(final_match_df26.shape)\n",
        "time.sleep(120)\n",
        "\n",
        "play_info_list27=get_game_info(final_combined_match_id27)\n",
        "final_match_df27 = pd.concat(play_info_list27)\n",
        "print(final_match_df27.shape)\n",
        "\n"
      ],
      "metadata": {
        "colab": {
          "base_uri": "https://localhost:8080/"
        },
        "id": "CVM75q4si4Le",
        "outputId": "5a2907ef-d61d-4d20-c6c9-24dbefbd0296"
      },
      "execution_count": null,
      "outputs": [
        {
          "output_type": "stream",
          "name": "stdout",
          "text": [
            "(1000, 121)\n",
            "(1000, 121)\n",
            "(1000, 121)\n",
            "(1000, 121)\n",
            "(1000, 121)\n",
            "(1000, 121)\n",
            "(1000, 121)\n"
          ]
        }
      ]
    },
    {
      "cell_type": "code",
      "source": [
        "my_df_part3=pd.concat([final_match_df21, final_match_df22, final_match_df23,final_match_df24,final_match_df25,final_match_df26,final_match_df27])"
      ],
      "metadata": {
        "id": "cSLQE-B5ncNy"
      },
      "execution_count": null,
      "outputs": []
    },
    {
      "cell_type": "code",
      "source": [
        "my_final_df=pd.concat([my_df_part1, my_df_part2, my_df_part3])"
      ],
      "metadata": {
        "id": "jw6vTmfHnrCp"
      },
      "execution_count": null,
      "outputs": []
    },
    {
      "cell_type": "code",
      "source": [
        "my_final_df.shape"
      ],
      "metadata": {
        "colab": {
          "base_uri": "https://localhost:8080/"
        },
        "id": "pPiPGpQvn0xI",
        "outputId": "177cb5e7-d88e-411f-d71e-d5b5eb21a029"
      },
      "execution_count": null,
      "outputs": [
        {
          "output_type": "execute_result",
          "data": {
            "text/plain": [
              "(27000, 121)"
            ]
          },
          "metadata": {},
          "execution_count": 29
        }
      ]
    },
    {
      "cell_type": "code",
      "source": [
        "my_final_df.head()"
      ],
      "metadata": {
        "colab": {
          "base_uri": "https://localhost:8080/",
          "height": 382
        },
        "id": "LpQ_-a-4b6Sk",
        "outputId": "932db0fd-61e3-4e0d-bf55-dc9bf9521e29"
      },
      "execution_count": null,
      "outputs": [
        {
          "output_type": "execute_result",
          "data": {
            "text/plain": [
              "   allInPings  assistMePings  assists  baitPings  baronKills  basicPings  \\\n",
              "0           0              1        2          0           0           0   \n",
              "1           1              3        0          1           0           0   \n",
              "2           1              3        1          0           0           0   \n",
              "3           0              1        1          0           0           0   \n",
              "4           0              0        2          0           0           0   \n",
              "\n",
              "   bountyLevel                                         challenges  \\\n",
              "0            1  {'12AssistStreakCount': 0, 'abilityUses': 165,...   \n",
              "1            0  {'12AssistStreakCount': 0, 'abilityUses': 127,...   \n",
              "2            0  {'12AssistStreakCount': 0, 'abilityUses': 85, ...   \n",
              "3            0  {'12AssistStreakCount': 0, 'abilityUses': 68, ...   \n",
              "4            0  {'12AssistStreakCount': 0, 'abilityUses': 43, ...   \n",
              "\n",
              "   champExperience  champLevel  ...  turretKills turretTakedowns  turretsLost  \\\n",
              "0             4908           8  ...            0               0            7   \n",
              "1             4261           8  ...            0               0            7   \n",
              "2             4488           8  ...            0               0            7   \n",
              "3             4477           8  ...            0               0            7   \n",
              "4             4212           8  ...            0               0            7   \n",
              "\n",
              "   unrealKills  visionClearedPings  visionScore  visionWardsBoughtInGame  \\\n",
              "0            0                   0            8                        0   \n",
              "1            0                   0           10                        2   \n",
              "2            0                   0            3                        0   \n",
              "3            0                   0            7                        0   \n",
              "4            0                   0            4                        0   \n",
              "\n",
              "   wardsKilled  wardsPlaced    win  \n",
              "0            1            4  False  \n",
              "1            3            2  False  \n",
              "2            0            1  False  \n",
              "3            1            3  False  \n",
              "4            2            0  False  \n",
              "\n",
              "[5 rows x 121 columns]"
            ],
            "text/html": [
              "\n",
              "  <div id=\"df-57eac3b4-c324-4a0d-bd29-3c3fc01ef620\">\n",
              "    <div class=\"colab-df-container\">\n",
              "      <div>\n",
              "<style scoped>\n",
              "    .dataframe tbody tr th:only-of-type {\n",
              "        vertical-align: middle;\n",
              "    }\n",
              "\n",
              "    .dataframe tbody tr th {\n",
              "        vertical-align: top;\n",
              "    }\n",
              "\n",
              "    .dataframe thead th {\n",
              "        text-align: right;\n",
              "    }\n",
              "</style>\n",
              "<table border=\"1\" class=\"dataframe\">\n",
              "  <thead>\n",
              "    <tr style=\"text-align: right;\">\n",
              "      <th></th>\n",
              "      <th>allInPings</th>\n",
              "      <th>assistMePings</th>\n",
              "      <th>assists</th>\n",
              "      <th>baitPings</th>\n",
              "      <th>baronKills</th>\n",
              "      <th>basicPings</th>\n",
              "      <th>bountyLevel</th>\n",
              "      <th>challenges</th>\n",
              "      <th>champExperience</th>\n",
              "      <th>champLevel</th>\n",
              "      <th>...</th>\n",
              "      <th>turretKills</th>\n",
              "      <th>turretTakedowns</th>\n",
              "      <th>turretsLost</th>\n",
              "      <th>unrealKills</th>\n",
              "      <th>visionClearedPings</th>\n",
              "      <th>visionScore</th>\n",
              "      <th>visionWardsBoughtInGame</th>\n",
              "      <th>wardsKilled</th>\n",
              "      <th>wardsPlaced</th>\n",
              "      <th>win</th>\n",
              "    </tr>\n",
              "  </thead>\n",
              "  <tbody>\n",
              "    <tr>\n",
              "      <th>0</th>\n",
              "      <td>0</td>\n",
              "      <td>1</td>\n",
              "      <td>2</td>\n",
              "      <td>0</td>\n",
              "      <td>0</td>\n",
              "      <td>0</td>\n",
              "      <td>1</td>\n",
              "      <td>{'12AssistStreakCount': 0, 'abilityUses': 165,...</td>\n",
              "      <td>4908</td>\n",
              "      <td>8</td>\n",
              "      <td>...</td>\n",
              "      <td>0</td>\n",
              "      <td>0</td>\n",
              "      <td>7</td>\n",
              "      <td>0</td>\n",
              "      <td>0</td>\n",
              "      <td>8</td>\n",
              "      <td>0</td>\n",
              "      <td>1</td>\n",
              "      <td>4</td>\n",
              "      <td>False</td>\n",
              "    </tr>\n",
              "    <tr>\n",
              "      <th>1</th>\n",
              "      <td>1</td>\n",
              "      <td>3</td>\n",
              "      <td>0</td>\n",
              "      <td>1</td>\n",
              "      <td>0</td>\n",
              "      <td>0</td>\n",
              "      <td>0</td>\n",
              "      <td>{'12AssistStreakCount': 0, 'abilityUses': 127,...</td>\n",
              "      <td>4261</td>\n",
              "      <td>8</td>\n",
              "      <td>...</td>\n",
              "      <td>0</td>\n",
              "      <td>0</td>\n",
              "      <td>7</td>\n",
              "      <td>0</td>\n",
              "      <td>0</td>\n",
              "      <td>10</td>\n",
              "      <td>2</td>\n",
              "      <td>3</td>\n",
              "      <td>2</td>\n",
              "      <td>False</td>\n",
              "    </tr>\n",
              "    <tr>\n",
              "      <th>2</th>\n",
              "      <td>1</td>\n",
              "      <td>3</td>\n",
              "      <td>1</td>\n",
              "      <td>0</td>\n",
              "      <td>0</td>\n",
              "      <td>0</td>\n",
              "      <td>0</td>\n",
              "      <td>{'12AssistStreakCount': 0, 'abilityUses': 85, ...</td>\n",
              "      <td>4488</td>\n",
              "      <td>8</td>\n",
              "      <td>...</td>\n",
              "      <td>0</td>\n",
              "      <td>0</td>\n",
              "      <td>7</td>\n",
              "      <td>0</td>\n",
              "      <td>0</td>\n",
              "      <td>3</td>\n",
              "      <td>0</td>\n",
              "      <td>0</td>\n",
              "      <td>1</td>\n",
              "      <td>False</td>\n",
              "    </tr>\n",
              "    <tr>\n",
              "      <th>3</th>\n",
              "      <td>0</td>\n",
              "      <td>1</td>\n",
              "      <td>1</td>\n",
              "      <td>0</td>\n",
              "      <td>0</td>\n",
              "      <td>0</td>\n",
              "      <td>0</td>\n",
              "      <td>{'12AssistStreakCount': 0, 'abilityUses': 68, ...</td>\n",
              "      <td>4477</td>\n",
              "      <td>8</td>\n",
              "      <td>...</td>\n",
              "      <td>0</td>\n",
              "      <td>0</td>\n",
              "      <td>7</td>\n",
              "      <td>0</td>\n",
              "      <td>0</td>\n",
              "      <td>7</td>\n",
              "      <td>0</td>\n",
              "      <td>1</td>\n",
              "      <td>3</td>\n",
              "      <td>False</td>\n",
              "    </tr>\n",
              "    <tr>\n",
              "      <th>4</th>\n",
              "      <td>0</td>\n",
              "      <td>0</td>\n",
              "      <td>2</td>\n",
              "      <td>0</td>\n",
              "      <td>0</td>\n",
              "      <td>0</td>\n",
              "      <td>0</td>\n",
              "      <td>{'12AssistStreakCount': 0, 'abilityUses': 43, ...</td>\n",
              "      <td>4212</td>\n",
              "      <td>8</td>\n",
              "      <td>...</td>\n",
              "      <td>0</td>\n",
              "      <td>0</td>\n",
              "      <td>7</td>\n",
              "      <td>0</td>\n",
              "      <td>0</td>\n",
              "      <td>4</td>\n",
              "      <td>0</td>\n",
              "      <td>2</td>\n",
              "      <td>0</td>\n",
              "      <td>False</td>\n",
              "    </tr>\n",
              "  </tbody>\n",
              "</table>\n",
              "<p>5 rows × 121 columns</p>\n",
              "</div>\n",
              "      <button class=\"colab-df-convert\" onclick=\"convertToInteractive('df-57eac3b4-c324-4a0d-bd29-3c3fc01ef620')\"\n",
              "              title=\"Convert this dataframe to an interactive table.\"\n",
              "              style=\"display:none;\">\n",
              "        \n",
              "  <svg xmlns=\"http://www.w3.org/2000/svg\" height=\"24px\"viewBox=\"0 0 24 24\"\n",
              "       width=\"24px\">\n",
              "    <path d=\"M0 0h24v24H0V0z\" fill=\"none\"/>\n",
              "    <path d=\"M18.56 5.44l.94 2.06.94-2.06 2.06-.94-2.06-.94-.94-2.06-.94 2.06-2.06.94zm-11 1L8.5 8.5l.94-2.06 2.06-.94-2.06-.94L8.5 2.5l-.94 2.06-2.06.94zm10 10l.94 2.06.94-2.06 2.06-.94-2.06-.94-.94-2.06-.94 2.06-2.06.94z\"/><path d=\"M17.41 7.96l-1.37-1.37c-.4-.4-.92-.59-1.43-.59-.52 0-1.04.2-1.43.59L10.3 9.45l-7.72 7.72c-.78.78-.78 2.05 0 2.83L4 21.41c.39.39.9.59 1.41.59.51 0 1.02-.2 1.41-.59l7.78-7.78 2.81-2.81c.8-.78.8-2.07 0-2.86zM5.41 20L4 18.59l7.72-7.72 1.47 1.35L5.41 20z\"/>\n",
              "  </svg>\n",
              "      </button>\n",
              "      \n",
              "  <style>\n",
              "    .colab-df-container {\n",
              "      display:flex;\n",
              "      flex-wrap:wrap;\n",
              "      gap: 12px;\n",
              "    }\n",
              "\n",
              "    .colab-df-convert {\n",
              "      background-color: #E8F0FE;\n",
              "      border: none;\n",
              "      border-radius: 50%;\n",
              "      cursor: pointer;\n",
              "      display: none;\n",
              "      fill: #1967D2;\n",
              "      height: 32px;\n",
              "      padding: 0 0 0 0;\n",
              "      width: 32px;\n",
              "    }\n",
              "\n",
              "    .colab-df-convert:hover {\n",
              "      background-color: #E2EBFA;\n",
              "      box-shadow: 0px 1px 2px rgba(60, 64, 67, 0.3), 0px 1px 3px 1px rgba(60, 64, 67, 0.15);\n",
              "      fill: #174EA6;\n",
              "    }\n",
              "\n",
              "    [theme=dark] .colab-df-convert {\n",
              "      background-color: #3B4455;\n",
              "      fill: #D2E3FC;\n",
              "    }\n",
              "\n",
              "    [theme=dark] .colab-df-convert:hover {\n",
              "      background-color: #434B5C;\n",
              "      box-shadow: 0px 1px 3px 1px rgba(0, 0, 0, 0.15);\n",
              "      filter: drop-shadow(0px 1px 2px rgba(0, 0, 0, 0.3));\n",
              "      fill: #FFFFFF;\n",
              "    }\n",
              "  </style>\n",
              "\n",
              "      <script>\n",
              "        const buttonEl =\n",
              "          document.querySelector('#df-57eac3b4-c324-4a0d-bd29-3c3fc01ef620 button.colab-df-convert');\n",
              "        buttonEl.style.display =\n",
              "          google.colab.kernel.accessAllowed ? 'block' : 'none';\n",
              "\n",
              "        async function convertToInteractive(key) {\n",
              "          const element = document.querySelector('#df-57eac3b4-c324-4a0d-bd29-3c3fc01ef620');\n",
              "          const dataTable =\n",
              "            await google.colab.kernel.invokeFunction('convertToInteractive',\n",
              "                                                     [key], {});\n",
              "          if (!dataTable) return;\n",
              "\n",
              "          const docLinkHtml = 'Like what you see? Visit the ' +\n",
              "            '<a target=\"_blank\" href=https://colab.research.google.com/notebooks/data_table.ipynb>data table notebook</a>'\n",
              "            + ' to learn more about interactive tables.';\n",
              "          element.innerHTML = '';\n",
              "          dataTable['output_type'] = 'display_data';\n",
              "          await google.colab.output.renderOutput(dataTable, element);\n",
              "          const docLink = document.createElement('div');\n",
              "          docLink.innerHTML = docLinkHtml;\n",
              "          element.appendChild(docLink);\n",
              "        }\n",
              "      </script>\n",
              "    </div>\n",
              "  </div>\n",
              "  "
            ]
          },
          "metadata": {},
          "execution_count": 30
        }
      ]
    },
    {
      "cell_type": "code",
      "source": [
        "my_final_df.to_csv('data_without_index.csv', index=False)"
      ],
      "metadata": {
        "id": "XsGUU3Fmk-yr"
      },
      "execution_count": null,
      "outputs": []
    }
  ]
}